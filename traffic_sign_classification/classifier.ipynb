{
 "cells": [
  {
   "cell_type": "markdown",
   "metadata": {},
   "source": [
    "Traffic sign classifcation\n",
    "====================\n",
    "\n",
    "\\#Convolutional Neural Network  \n",
    "\\#LISA dataset  \n",
    "\\#Keras  \n",
    "\\#iOS coreML"
   ]
  },
  {
   "cell_type": "code",
   "execution_count": 1,
   "metadata": {},
   "outputs": [
    {
     "name": "stderr",
     "output_type": "stream",
     "text": [
      "/home/allenhsu/.local/lib/python3.5/site-packages/sklearn/cross_validation.py:41: DeprecationWarning: This module was deprecated in version 0.18 in favor of the model_selection module into which all the refactored classes and functions are moved. Also note that the interface of the new CV iterators are different from that of this module. This module will be removed in 0.20.\n",
      "  \"This module will be removed in 0.20.\", DeprecationWarning)\n",
      "/usr/local/lib/python3.5/dist-packages/h5py/__init__.py:36: FutureWarning: Conversion of the second argument of issubdtype from `float` to `np.floating` is deprecated. In future, it will be treated as `np.float64 == np.dtype(float).type`.\n",
      "  from ._conv import register_converters as _register_converters\n",
      "Using TensorFlow backend.\n"
     ]
    }
   ],
   "source": [
    "import numpy as np\n",
    "from skimage import io, color, exposure, transform\n",
    "from sklearn.cross_validation import train_test_split\n",
    "import os\n",
    "import glob\n",
    "import h5py\n",
    "\n",
    "from keras.preprocessing.image import ImageDataGenerator\n",
    "from keras.models import Sequential, model_from_json, load_model\n",
    "from keras.layers.core import Dense, Dropout, Activation, Flatten\n",
    "from keras.layers.convolutional import Conv2D\n",
    "from keras.layers.pooling import MaxPooling2D\n",
    "\n",
    "from keras.optimizers import SGD\n",
    "from keras.utils import np_utils\n",
    "from keras.callbacks import LearningRateScheduler, ModelCheckpoint\n",
    "from keras import backend as K\n",
    "K.set_image_data_format('channels_last')\n",
    "\n",
    "from matplotlib import pyplot as plt\n",
    "%matplotlib inline\n",
    "\n",
    "NUM_CLASSES = 14\n",
    "IMG_SIZE = 32"
   ]
  },
  {
   "cell_type": "markdown",
   "metadata": {},
   "source": [
    "## Preprocess image  \n",
    "1. equalize histogram\n",
    "2. central scrop\n",
    "3. rescale to 32x32"
   ]
  },
  {
   "cell_type": "code",
   "execution_count": 2,
   "metadata": {},
   "outputs": [],
   "source": [
    "def preprocess_img(img):\n",
    "    hsv = color.rgb2hsv(img)\n",
    "    hsv[:,:,2] = exposure.equalize_hist(hsv[:,:,2])\n",
    "    img = color.hsv2rgb(hsv)\n",
    "\n",
    "    min_side = min(img.shape[:-1])\n",
    "    centre = img.shape[0]//2, img.shape[1]//2\n",
    "    img = img[centre[0]-min_side//2:centre[0]+min_side//2,\n",
    "              centre[1]-min_side//2:centre[1]+min_side//2,\n",
    "              :]\n",
    "\n",
    "    img = transform.resize(img, (IMG_SIZE, IMG_SIZE))\n",
    "\n",
    "    return img\n",
    "\n",
    "\n",
    "def get_class(img_path):\n",
    "    return int(img_path.split('$')[1])"
   ]
  },
  {
   "cell_type": "markdown",
   "metadata": {},
   "source": [
    "## Collect training set\n",
    "The data was collected from LISA traffic sign data set, we would store the training data into X.h5 file in order to speed up next the process next time.  \n",
    "http://cvrr.ucsd.edu/LISA/lisa-traffic-sign-dataset.html"
   ]
  },
  {
   "cell_type": "code",
   "execution_count": 3,
   "metadata": {},
   "outputs": [
    {
     "name": "stdout",
     "output_type": "stream",
     "text": [
      "Loaded images from X.h5\n"
     ]
    }
   ],
   "source": [
    "try:\n",
    "    with  h5py.File('X.h5') as hf: \n",
    "        X, y = hf['imgs'][:], hf['labels'][:]\n",
    "    print(\"Loaded images from X.h5\")\n",
    "    \n",
    "except (IOError,OSError, KeyError):  \n",
    "    print(\"Error in reading X.h5. Processing all images...\")\n",
    "    root_dir = 'training60/'\n",
    "    imgs = []\n",
    "    labels = []\n",
    "    all_img_paths = glob.glob(os.path.join(root_dir, '*.png'))\n",
    "    np.random.shuffle(all_img_paths)\n",
    "    for img_path in all_img_paths:\n",
    "        try:\n",
    "            img = preprocess_img(io.imread(img_path))\n",
    "            label = get_class(img_path)\n",
    "            imgs.append(img)\n",
    "            labels.append(label)\n",
    "\n",
    "            if len(imgs)%1000 == 0: print(\"Processed {}/{}\".format(len(imgs), len(all_img_paths)))\n",
    "        except (IOError, OSError):\n",
    "            print('missed', img_path)\n",
    "            pass\n",
    "\n",
    "    X = np.array(imgs, dtype='float32')\n",
    "    y = np.eye(NUM_CLASSES, dtype='uint8')[labels]\n",
    "    with h5py.File('X.h5','w') as hf:\n",
    "        hf.create_dataset('imgs', data=X)\n",
    "        hf.create_dataset('labels', data=y)"
   ]
  },
  {
   "cell_type": "markdown",
   "metadata": {},
   "source": [
    "## Model architecture\n",
    "1. 6 convolutional layers with 3 max-pool and drop-out layers  \n",
    "2. 1 fully-connected layer to collect the features  \n",
    "3. Collect the result by softmax"
   ]
  },
  {
   "cell_type": "code",
   "execution_count": 5,
   "metadata": {
    "scrolled": false
   },
   "outputs": [],
   "source": [
    "def cnn_model():\n",
    "    model = Sequential()\n",
    "\n",
    "    model.add(Conv2D(32, (3, 3), padding='same',\n",
    "                     input_shape=(IMG_SIZE, IMG_SIZE, 3),\n",
    "                     activation='relu'))\n",
    "    model.add(Conv2D(32, (3, 3), activation='relu'))\n",
    "    model.add(MaxPooling2D(pool_size=(2, 2)))\n",
    "    model.add(Dropout(0.2))\n",
    "\n",
    "    model.add(Conv2D(64, (3, 3), padding='same',\n",
    "                     activation='relu'))\n",
    "    model.add(Conv2D(64, (3, 3), activation='relu'))\n",
    "    model.add(MaxPooling2D(pool_size=(2, 2)))\n",
    "    model.add(Dropout(0.2))\n",
    "\n",
    "    model.add(Conv2D(128, (3, 3), padding='same',\n",
    "                     activation='relu'))\n",
    "    model.add(Conv2D(128, (3, 3), activation='relu'))\n",
    "    model.add(MaxPooling2D(pool_size=(2, 2)))\n",
    "    model.add(Dropout(0.2))\n",
    "\n",
    "    model.add(Flatten())\n",
    "    model.add(Dense(256, activation='relu'))\n",
    "    model.add(Dropout(0.5))\n",
    "    model.add(Dense(NUM_CLASSES, activation='softmax'))\n",
    "    return model\n",
    "\n",
    "model = cnn_model()\n",
    "lr = 0.01\n",
    "sgd = SGD(lr=lr, decay=1e-6, momentum=0.9, nesterov=True)\n",
    "model.compile(loss='categorical_crossentropy',\n",
    "          optimizer=sgd,\n",
    "          metrics=['accuracy'])\n",
    "\n",
    "\n",
    "def lr_schedule(epoch):\n",
    "    return lr*(0.1**int(epoch/10))"
   ]
  },
  {
   "cell_type": "markdown",
   "metadata": {},
   "source": [
    "## Train the model"
   ]
  },
  {
   "cell_type": "code",
   "execution_count": 6,
   "metadata": {},
   "outputs": [
    {
     "name": "stdout",
     "output_type": "stream",
     "text": [
      "WARNING:tensorflow:Variable *= will be deprecated. Use variable.assign_mul if you want assignment to the variable value or 'x = x * y' if you want a new python Tensor object.\n",
      "Train on 2156 samples, validate on 540 samples\n",
      "Epoch 1/30\n",
      "2156/2156 [==============================] - 2s 876us/step - loss: 1.2161 - acc: 0.6456 - val_loss: 0.4493 - val_acc: 0.8611\n",
      "Epoch 2/30\n",
      "2156/2156 [==============================] - 1s 244us/step - loss: 0.4642 - acc: 0.8595 - val_loss: 0.1966 - val_acc: 0.9463\n",
      "Epoch 3/30\n",
      "2156/2156 [==============================] - 1s 251us/step - loss: 0.3242 - acc: 0.8961 - val_loss: 0.1693 - val_acc: 0.9574\n",
      "Epoch 4/30\n",
      "2156/2156 [==============================] - 1s 247us/step - loss: 0.2257 - acc: 0.9221 - val_loss: 0.1151 - val_acc: 0.9611\n",
      "Epoch 5/30\n",
      "2156/2156 [==============================] - 1s 248us/step - loss: 0.1785 - acc: 0.9392 - val_loss: 0.0953 - val_acc: 0.9704\n",
      "Epoch 6/30\n",
      "2156/2156 [==============================] - 1s 246us/step - loss: 0.1611 - acc: 0.9508 - val_loss: 0.1463 - val_acc: 0.9593\n",
      "Epoch 7/30\n",
      "2156/2156 [==============================] - 1s 256us/step - loss: 0.1172 - acc: 0.9592 - val_loss: 0.0725 - val_acc: 0.9796\n",
      "Epoch 8/30\n",
      "2156/2156 [==============================] - 1s 248us/step - loss: 0.0959 - acc: 0.9685 - val_loss: 0.0624 - val_acc: 0.9833\n",
      "Epoch 9/30\n",
      "2156/2156 [==============================] - 1s 250us/step - loss: 0.0786 - acc: 0.9699 - val_loss: 0.0634 - val_acc: 0.9852\n",
      "Epoch 10/30\n",
      "2156/2156 [==============================] - 1s 257us/step - loss: 0.0681 - acc: 0.9787 - val_loss: 0.0569 - val_acc: 0.9833\n",
      "Epoch 11/30\n",
      "2156/2156 [==============================] - 1s 296us/step - loss: 0.0469 - acc: 0.9842 - val_loss: 0.0489 - val_acc: 0.9852\n",
      "Epoch 12/30\n",
      "2156/2156 [==============================] - 1s 260us/step - loss: 0.0423 - acc: 0.9879 - val_loss: 0.0498 - val_acc: 0.9852\n",
      "Epoch 13/30\n",
      "2156/2156 [==============================] - 1s 265us/step - loss: 0.0228 - acc: 0.9935 - val_loss: 0.0485 - val_acc: 0.9889\n",
      "Epoch 14/30\n",
      "2156/2156 [==============================] - 1s 260us/step - loss: 0.0290 - acc: 0.9907 - val_loss: 0.0457 - val_acc: 0.9889\n",
      "Epoch 15/30\n",
      "2156/2156 [==============================] - 1s 260us/step - loss: 0.0255 - acc: 0.9921 - val_loss: 0.0475 - val_acc: 0.9852\n",
      "Epoch 16/30\n",
      "2156/2156 [==============================] - 1s 267us/step - loss: 0.0250 - acc: 0.9917 - val_loss: 0.0461 - val_acc: 0.9870\n",
      "Epoch 17/30\n",
      "2156/2156 [==============================] - 1s 270us/step - loss: 0.0256 - acc: 0.9921 - val_loss: 0.0470 - val_acc: 0.9870\n",
      "Epoch 18/30\n",
      "2156/2156 [==============================] - 1s 270us/step - loss: 0.0220 - acc: 0.9935 - val_loss: 0.0473 - val_acc: 0.9833\n",
      "Epoch 19/30\n",
      "2156/2156 [==============================] - 1s 254us/step - loss: 0.0200 - acc: 0.9930 - val_loss: 0.0505 - val_acc: 0.9833\n",
      "Epoch 20/30\n",
      "2156/2156 [==============================] - 1s 256us/step - loss: 0.0165 - acc: 0.9949 - val_loss: 0.0480 - val_acc: 0.9852\n",
      "Epoch 21/30\n",
      "2156/2156 [==============================] - 1s 259us/step - loss: 0.0151 - acc: 0.9963 - val_loss: 0.0480 - val_acc: 0.9870\n",
      "Epoch 22/30\n",
      "2156/2156 [==============================] - 1s 262us/step - loss: 0.0156 - acc: 0.9944 - val_loss: 0.0480 - val_acc: 0.9870\n",
      "Epoch 23/30\n",
      "2156/2156 [==============================] - 1s 258us/step - loss: 0.0229 - acc: 0.9935 - val_loss: 0.0484 - val_acc: 0.9870\n",
      "Epoch 24/30\n",
      "2156/2156 [==============================] - 1s 257us/step - loss: 0.0189 - acc: 0.9940 - val_loss: 0.0488 - val_acc: 0.9852\n",
      "Epoch 25/30\n",
      "2156/2156 [==============================] - 1s 257us/step - loss: 0.0180 - acc: 0.9935 - val_loss: 0.0489 - val_acc: 0.9852\n",
      "Epoch 26/30\n",
      "2156/2156 [==============================] - 1s 263us/step - loss: 0.0188 - acc: 0.9935 - val_loss: 0.0489 - val_acc: 0.9852\n",
      "Epoch 27/30\n",
      "2156/2156 [==============================] - 1s 273us/step - loss: 0.0187 - acc: 0.9944 - val_loss: 0.0490 - val_acc: 0.9833\n",
      "Epoch 28/30\n",
      "2156/2156 [==============================] - 1s 265us/step - loss: 0.0137 - acc: 0.9968 - val_loss: 0.0490 - val_acc: 0.9833\n",
      "Epoch 29/30\n",
      "2156/2156 [==============================] - 1s 268us/step - loss: 0.0173 - acc: 0.9954 - val_loss: 0.0487 - val_acc: 0.9833\n",
      "Epoch 30/30\n",
      "2156/2156 [==============================] - 1s 261us/step - loss: 0.0118 - acc: 0.9977 - val_loss: 0.0490 - val_acc: 0.9833\n"
     ]
    }
   ],
   "source": [
    "batch_size = 32\n",
    "nb_epoch = 30\n",
    "\n",
    "history = model.fit(X, y,\n",
    "                  batch_size=batch_size,\n",
    "                  epochs=nb_epoch,\n",
    "                  validation_split=0.2,\n",
    "                  shuffle=True,\n",
    "                  callbacks=[LearningRateScheduler(lr_schedule),\n",
    "                            ModelCheckpoint('model.h5',save_best_only=True)])"
   ]
  },
  {
   "cell_type": "code",
   "execution_count": null,
   "metadata": {},
   "outputs": [],
   "source": [
    "#  \"Accuracy\"\n",
    "plt.plot(history.history['acc'])\n",
    "# plt.plot(history.history['val_acc'])\n",
    "plt.title('model accuracy')\n",
    "plt.ylabel('accuracy')\n",
    "plt.xlabel('epoch')\n",
    "plt.legend(['train', 'validation'], loc='upper left')\n",
    "plt.show()\n",
    "# \"Loss\"\n",
    "plt.plot(history.history['loss'])\n",
    "# plt.plot(history.history['val_loss'])\n",
    "plt.title('model loss')\n",
    "plt.ylabel('loss')\n",
    "plt.xlabel('epoch')\n",
    "plt.legend(['train', 'validation'], loc='upper left')\n",
    "plt.show()"
   ]
  },
  {
   "cell_type": "code",
   "execution_count": 12,
   "metadata": {},
   "outputs": [
    {
     "name": "stderr",
     "output_type": "stream",
     "text": [
      "/home/allenhsu/.local/lib/python3.5/site-packages/skimage/transform/_warps.py:84: UserWarning: The default mode, 'constant', will be changed to 'reflect' in skimage 0.15.\n",
      "  warn(\"The default mode, 'constant', will be changed to 'reflect' in \"\n"
     ]
    }
   ],
   "source": [
    "root_dir = 'testing40/'\n",
    "X_test = []\n",
    "y_test = []\n",
    "all_img_paths = glob.glob(os.path.join(root_dir, '*.png'))\n",
    "np.random.shuffle(all_img_paths)\n",
    "for img_path in all_img_paths:\n",
    "    try:\n",
    "        img = preprocess_img(io.imread(img_path))\n",
    "        label = get_class(img_path)\n",
    "        X_test.append(img)\n",
    "        y_test.append(label)\n",
    "\n",
    "    except (IOError, OSError):\n",
    "        print('missed', img_path)\n",
    "        pass\n",
    "\n",
    "X_test = np.array(X_test)\n",
    "y_test = np.array(y_test)"
   ]
  },
  {
   "cell_type": "code",
   "execution_count": 13,
   "metadata": {},
   "outputs": [
    {
     "name": "stdout",
     "output_type": "stream",
     "text": [
      "Test accuracy = 0.987390350877193\n"
     ]
    }
   ],
   "source": [
    "y_pred = model.predict_classes(X_test)\n",
    "acc = np.sum(y_pred==y_test)/np.size(y_pred)\n",
    "print(\"Test accuracy = {}\".format(acc))"
   ]
  },
  {
   "cell_type": "markdown",
   "metadata": {},
   "source": [
    "## Train with augmented dataset\n",
    "\n",
    "Using ImageDataGenerator to augment the training data  \n",
    "*  Sample-wise standardization  \n",
    "* Feature-wise standardization  \n",
    "* ZCA whitening  \n",
    "* Random rotation, shifts, shear and flips  \n",
    "* Dimension reordering  \n"
   ]
  },
  {
   "cell_type": "code",
   "execution_count": 9,
   "metadata": {},
   "outputs": [],
   "source": [
    "from sklearn.cross_validation import train_test_split\n",
    "\n",
    "X_train, X_val, y_train, y_val = train_test_split(X, y, test_size=0.2, random_state=42)\n",
    "\n",
    "datagen = ImageDataGenerator(featurewise_center=False, \n",
    "                             featurewise_std_normalization=False, \n",
    "                             width_shift_range=0.1,\n",
    "                             height_shift_range=0.1,\n",
    "                             zoom_range=0.2,\n",
    "                             shear_range=0.1,\n",
    "                             rotation_range=10.,)\n",
    "\n",
    "datagen.fit(X_train)"
   ]
  },
  {
   "cell_type": "code",
   "execution_count": 7,
   "metadata": {},
   "outputs": [],
   "source": [
    "model_aug = cnn_model()\n",
    "lr = 0.01\n",
    "sgd = SGD(lr=lr, decay=1e-6, momentum=0.9, nesterov=True)\n",
    "model_aug.compile(loss='categorical_crossentropy',\n",
    "          optimizer=sgd,\n",
    "          metrics=['accuracy'])\n",
    "\n",
    "\n",
    "def lr_schedule(epoch):\n",
    "    return lr*(0.1**int(epoch/10))"
   ]
  },
  {
   "cell_type": "code",
   "execution_count": 10,
   "metadata": {},
   "outputs": [
    {
     "name": "stdout",
     "output_type": "stream",
     "text": [
      "Epoch 1/30\n",
      "2156/2156 [==============================] - 29s 13ms/step - loss: 0.3896 - acc: 0.8747 - val_loss: 0.0305 - val_acc: 0.9852\n",
      "Epoch 2/30\n",
      "2156/2156 [==============================] - 29s 14ms/step - loss: 0.1050 - acc: 0.9645 - val_loss: 0.0478 - val_acc: 0.9815\n",
      "Epoch 3/30\n",
      "2156/2156 [==============================] - 30s 14ms/step - loss: 0.0643 - acc: 0.9777 - val_loss: 0.0375 - val_acc: 0.9833\n",
      "Epoch 4/30\n",
      "2156/2156 [==============================] - 29s 14ms/step - loss: 0.0491 - acc: 0.9837 - val_loss: 0.0286 - val_acc: 0.9889\n",
      "Epoch 5/30\n",
      "2156/2156 [==============================] - 29s 14ms/step - loss: 0.0398 - acc: 0.9865 - val_loss: 0.0290 - val_acc: 0.9907\n",
      "Epoch 6/30\n",
      "2156/2156 [==============================] - 29s 14ms/step - loss: 0.0313 - acc: 0.9891 - val_loss: 0.0267 - val_acc: 0.9963\n",
      "Epoch 7/30\n",
      "2156/2156 [==============================] - 29s 14ms/step - loss: 0.0269 - acc: 0.9910 - val_loss: 0.0349 - val_acc: 0.9944\n",
      "Epoch 8/30\n",
      "2156/2156 [==============================] - 29s 14ms/step - loss: 0.0241 - acc: 0.9918 - val_loss: 0.0292 - val_acc: 0.9889\n",
      "Epoch 9/30\n",
      "2156/2156 [==============================] - 30s 14ms/step - loss: 0.0221 - acc: 0.9925 - val_loss: 0.0265 - val_acc: 0.9963\n",
      "Epoch 10/30\n",
      "2156/2156 [==============================] - 30s 14ms/step - loss: 0.0206 - acc: 0.9933 - val_loss: 0.0213 - val_acc: 0.9944\n",
      "Epoch 11/30\n",
      "2156/2156 [==============================] - 29s 14ms/step - loss: 0.0108 - acc: 0.9964 - val_loss: 0.0192 - val_acc: 0.9981\n",
      "Epoch 12/30\n",
      "2156/2156 [==============================] - 30s 14ms/step - loss: 0.0100 - acc: 0.9968 - val_loss: 0.0264 - val_acc: 0.9963\n",
      "Epoch 13/30\n",
      "2156/2156 [==============================] - 30s 14ms/step - loss: 0.0084 - acc: 0.9976 - val_loss: 0.0232 - val_acc: 0.9944\n",
      "Epoch 14/30\n",
      "2156/2156 [==============================] - 30s 14ms/step - loss: 0.0079 - acc: 0.9974 - val_loss: 0.0246 - val_acc: 0.9963\n",
      "Epoch 15/30\n",
      "2156/2156 [==============================] - 30s 14ms/step - loss: 0.0083 - acc: 0.9976 - val_loss: 0.0237 - val_acc: 0.9944\n",
      "Epoch 16/30\n",
      "2156/2156 [==============================] - 30s 14ms/step - loss: 0.0073 - acc: 0.9976 - val_loss: 0.0229 - val_acc: 0.9944\n",
      "Epoch 17/30\n",
      "2156/2156 [==============================] - 30s 14ms/step - loss: 0.0072 - acc: 0.9977 - val_loss: 0.0238 - val_acc: 0.9963\n",
      "Epoch 18/30\n",
      "2156/2156 [==============================] - 30s 14ms/step - loss: 0.0075 - acc: 0.9975 - val_loss: 0.0240 - val_acc: 0.9963\n",
      "Epoch 19/30\n",
      "2156/2156 [==============================] - 30s 14ms/step - loss: 0.0066 - acc: 0.9978 - val_loss: 0.0245 - val_acc: 0.9963\n",
      "Epoch 20/30\n",
      "2156/2156 [==============================] - 30s 14ms/step - loss: 0.0074 - acc: 0.9976 - val_loss: 0.0213 - val_acc: 0.9944\n",
      "Epoch 21/30\n",
      "2156/2156 [==============================] - 29s 14ms/step - loss: 0.0058 - acc: 0.9983 - val_loss: 0.0217 - val_acc: 0.9944\n",
      "Epoch 22/30\n",
      "2156/2156 [==============================] - 28s 13ms/step - loss: 0.0064 - acc: 0.9980 - val_loss: 0.0225 - val_acc: 0.9944\n",
      "Epoch 23/30\n",
      "2156/2156 [==============================] - 29s 13ms/step - loss: 0.0063 - acc: 0.9980 - val_loss: 0.0222 - val_acc: 0.9944\n",
      "Epoch 24/30\n",
      "2156/2156 [==============================] - 29s 13ms/step - loss: 0.0062 - acc: 0.9980 - val_loss: 0.0213 - val_acc: 0.9944\n",
      "Epoch 25/30\n",
      "2156/2156 [==============================] - 28s 13ms/step - loss: 0.0059 - acc: 0.9980 - val_loss: 0.0219 - val_acc: 0.9981\n",
      "Epoch 26/30\n",
      "2156/2156 [==============================] - 29s 13ms/step - loss: 0.0059 - acc: 0.9981 - val_loss: 0.0214 - val_acc: 0.9981\n",
      "Epoch 27/30\n",
      "2156/2156 [==============================] - 29s 13ms/step - loss: 0.0062 - acc: 0.9980 - val_loss: 0.0218 - val_acc: 0.9963\n",
      "Epoch 28/30\n",
      "2156/2156 [==============================] - 28s 13ms/step - loss: 0.0055 - acc: 0.9982 - val_loss: 0.0215 - val_acc: 0.9944\n",
      "Epoch 29/30\n",
      "2156/2156 [==============================] - 29s 13ms/step - loss: 0.0059 - acc: 0.9980 - val_loss: 0.0214 - val_acc: 0.9963\n",
      "Epoch 30/30\n",
      "2156/2156 [==============================] - 29s 13ms/step - loss: 0.0059 - acc: 0.9983 - val_loss: 0.0217 - val_acc: 0.9963\n"
     ]
    }
   ],
   "source": [
    "nb_epoch = 30\n",
    "history = model_aug.fit_generator(datagen.flow(X_train, y_train, batch_size=batch_size),\n",
    "                                    steps_per_epoch=X_train.shape[0],\n",
    "                                    epochs=nb_epoch,\n",
    "                                    validation_data=(X_val, y_val),\n",
    "                                    callbacks=[LearningRateScheduler(lr_schedule),\n",
    "                                               ModelCheckpoint('model.h5',save_best_only=True)])"
   ]
  },
  {
   "cell_type": "code",
   "execution_count": 14,
   "metadata": {},
   "outputs": [
    {
     "name": "stdout",
     "output_type": "stream",
     "text": [
      "Test accuracy = 0.9950657894736842\n"
     ]
    }
   ],
   "source": [
    "y_pred = model_aug.predict_classes(X_test)\n",
    "acc = np.sum(y_pred==y_test)/np.size(y_pred)\n",
    "print(\"Test accuracy = {}\".format(acc))"
   ]
  },
  {
   "cell_type": "code",
   "execution_count": 15,
   "metadata": {},
   "outputs": [
    {
     "name": "stdout",
     "output_type": "stream",
     "text": [
      "_________________________________________________________________\n",
      "Layer (type)                 Output Shape              Param #   \n",
      "=================================================================\n",
      "conv2d_1 (Conv2D)            (None, 32, 32, 32)        896       \n",
      "_________________________________________________________________\n",
      "conv2d_2 (Conv2D)            (None, 30, 30, 32)        9248      \n",
      "_________________________________________________________________\n",
      "max_pooling2d_1 (MaxPooling2 (None, 15, 15, 32)        0         \n",
      "_________________________________________________________________\n",
      "flatten_2 (Flatten)          (None, 7200)              0         \n",
      "_________________________________________________________________\n",
      "dense_1 (Dense)              (None, 256)               1843456   \n",
      "_________________________________________________________________\n",
      "dropout_1 (Dropout)          (None, 256)               0         \n",
      "_________________________________________________________________\n",
      "dense_2 (Dense)              (None, 14)                3598      \n",
      "=================================================================\n",
      "Total params: 1,857,198\n",
      "Trainable params: 1,857,198\n",
      "Non-trainable params: 0\n",
      "_________________________________________________________________\n"
     ]
    }
   ],
   "source": [
    "model.summary()"
   ]
  },
  {
   "cell_type": "markdown",
   "metadata": {},
   "source": [
    "## Training result with plot and confusion matrix"
   ]
  },
  {
   "cell_type": "code",
   "execution_count": 16,
   "metadata": {},
   "outputs": [
    {
     "data": {
      "image/png": "[encoded data removed]",
      "text/plain": [
       "<Figure size 432x288 with 1 Axes>"
      ]
     },
     "metadata": {},
     "output_type": "display_data"
    },
    {
     "data": {
      "image/png": "[encoded data removed]",
      "text/plain": [
       "<Figure size 432x288 with 1 Axes>"
      ]
     },
     "metadata": {},
     "output_type": "display_data"
    }
   ],
   "source": [
    "#  \"Accuracy\"\n",
    "plt.figure()\n",
    "plt.plot(history.history['acc'])\n",
    "plt.plot(history.history['val_acc'])\n",
    "plt.title('model accuracy')\n",
    "plt.ylabel('accuracy')\n",
    "plt.xlabel('epoch')\n",
    "plt.legend(['train', 'validation'], loc='upper left')\n",
    "plt.savefig('model_accuracy.svg', format='svg', dpi=300)\n",
    "plt.show()\n",
    "# \"Loss\"\n",
    "plt.figure()\n",
    "plt.plot(history.history['loss'])\n",
    "plt.plot(history.history['val_loss'])\n",
    "plt.title('model loss')\n",
    "plt.ylabel('loss')\n",
    "plt.xlabel('epoch')\n",
    "plt.legend(['train', 'validation'], loc='upper left')\n",
    "plt.savefig('model_loss.svg', format='svg', dpi=300)\n",
    "plt.show()"
   ]
  },
  {
   "cell_type": "code",
   "execution_count": 17,
   "metadata": {},
   "outputs": [
    {
     "data": {
      "image/png": "[encoded data removed]",
      "text/plain": [
       "<Figure size 720x720 with 1 Axes>"
      ]
     },
     "metadata": {},
     "output_type": "display_data"
    }
   ],
   "source": [
    "from sklearn.metrics import confusion_matrix\n",
    "import itertools\n",
    "cm = confusion_matrix(y_test, y_pred)\n",
    "\n",
    "plt.figure(figsize=(10,10))  \n",
    "plt.imshow(cm, interpolation='nearest', cmap=plt.cm.Blues)\n",
    "tick_marks = np.arange(NUM_CLASSES)\n",
    "\n",
    "plt.xticks(range(NUM_CLASSES))\n",
    "plt.yticks(range(NUM_CLASSES))\n",
    "plt.xticks(rotation=90)\n",
    "plt.xticks(fontsize = 12)\n",
    "plt.yticks(fontsize = 12)\n",
    "plt.xlabel('Predicted', fontsize = 16)\n",
    "plt.ylabel('True', fontsize= 16)\n",
    "thresh = cm.max() / 2.\n",
    "for i, j in itertools.product(range(cm.shape[0]), range(cm.shape[1])):\n",
    "    plt.text(j, i, cm[i, j],horizontalalignment=\"center\",\n",
    "             color=\"white\" if cm[i, j] > thresh else \"black\")\n",
    "plt.savefig('confusion_matrix.svg',  format='svg', dpi=300)\n",
    "plt.show()\n"
   ]
  },
  {
   "cell_type": "markdown",
   "metadata": {},
   "source": [
    "## Save the model and convert the Keras model into coreML for iOS"
   ]
  },
  {
   "cell_type": "code",
   "execution_count": 24,
   "metadata": {},
   "outputs": [],
   "source": [
    "model_aug.save(\"traffic_sign_classifier_model.h5\")"
   ]
  },
  {
   "cell_type": "code",
   "execution_count": 5,
   "metadata": {},
   "outputs": [],
   "source": [
    "model_aug = load_model(\"traffic_sign_classifier_model.h5\")"
   ]
  },
  {
   "cell_type": "code",
   "execution_count": 6,
   "metadata": {},
   "outputs": [
    {
     "name": "stdout",
     "output_type": "stream",
     "text": [
      "0 : conv2d_21_input, <keras.engine.topology.InputLayer object at 0x7f969e0edb38>\n",
      "1 : conv2d_21, <keras.layers.convolutional.Conv2D object at 0x7f969e0ed748>\n",
      "2 : conv2d_21__activation__, <keras.layers.core.Activation object at 0x7f96ae298208>\n",
      "3 : conv2d_22, <keras.layers.convolutional.Conv2D object at 0x7f969e0edda0>\n",
      "4 : conv2d_22__activation__, <keras.layers.core.Activation object at 0x7f96ae298470>\n",
      "5 : max_pooling2d_11, <keras.layers.pooling.MaxPooling2D object at 0x7f969e0edc88>\n",
      "6 : conv2d_23, <keras.layers.convolutional.Conv2D object at 0x7f969e09f400>\n",
      "7 : conv2d_23__activation__, <keras.layers.core.Activation object at 0x7f96ae2984e0>\n",
      "8 : conv2d_24, <keras.layers.convolutional.Conv2D object at 0x7f969e08e4a8>\n",
      "9 : conv2d_24__activation__, <keras.layers.core.Activation object at 0x7f96ae2983c8>\n",
      "10 : max_pooling2d_12, <keras.layers.pooling.MaxPooling2D object at 0x7f969e0bcb00>\n",
      "11 : conv2d_25, <keras.layers.convolutional.Conv2D object at 0x7f969e05cf98>\n",
      "12 : conv2d_25__activation__, <keras.layers.core.Activation object at 0x7f96ae298668>\n",
      "13 : conv2d_26, <keras.layers.convolutional.Conv2D object at 0x7f969e04f630>\n",
      "14 : conv2d_26__activation__, <keras.layers.core.Activation object at 0x7f96ae298550>\n",
      "15 : max_pooling2d_13, <keras.layers.pooling.MaxPooling2D object at 0x7f969e016fd0>\n",
      "16 : flatten_4, <keras.layers.core.Flatten object at 0x7f969dbd5c88>\n",
      "17 : dense_7, <keras.layers.core.Dense object at 0x7f969dbe8470>\n",
      "18 : dense_7__activation__, <keras.layers.core.Activation object at 0x7f96ae298710>\n",
      "19 : dense_8, <keras.layers.core.Dense object at 0x7f969dbaba90>\n",
      "20 : dense_8__activation__, <keras.layers.core.Activation object at 0x7f96ae298588>\n"
     ]
    }
   ],
   "source": [
    "import coremltools\n",
    "coreml_model = coremltools.converters.keras.convert(model_aug, input_names='image',\n",
    "                                                    image_input_names='image',\n",
    "                                                    image_scale=1/255.0,\n",
    "                                                    class_labels=['speedLimit25', 'speedLimit30', 'speedLimit35', 'speedLimit40', 'speedLimit45', 'speedLimit50', 'speedLimit55', 'speedLimit65', 'stop', 'stopAhead', 'slow', 'pedestrianCrossing', 'school', 'schoolSpeedLimit25'])\n",
    "#                                                     class_labels=[i for i in range(14)])\n",
    "coreml_model.save('traffic_sign_classifier_model.mlmodel')"
   ]
  }
 ],
 "metadata": {
  "kernelspec": {
   "display_name": "Python 3",
   "language": "python",
   "name": "python3"
  },
  "language_info": {
   "codemirror_mode": {
    "name": "ipython",
    "version": 3
   },
   "file_extension": ".py",
   "mimetype": "text/x-python",
   "name": "python",
   "nbconvert_exporter": "python",
   "pygments_lexer": "ipython3",
   "version": "3.5.2"
  }
 },
 "nbformat": 4,
 "nbformat_minor": 2
}
