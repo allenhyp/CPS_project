{
 "cells": [
  {
   "cell_type": "markdown",
   "metadata": {},
   "source": [
    "Traffic sign classifcation\n",
    "====================\n",
    "\n",
    "\\#Convolutional Neural Network  \n",
    "\\#LISA dataset  \n",
    "\\#Keras  \n",
    "\\#iOS coreML"
   ]
  },
  {
   "cell_type": "code",
   "execution_count": 1,
   "metadata": {},
   "outputs": [
    {
     "name": "stderr",
     "output_type": "stream",
     "text": [
      "E:\\anaconda\\lib\\site-packages\\sklearn\\cross_validation.py:41: DeprecationWarning: This module was deprecated in version 0.18 in favor of the model_selection module into which all the refactored classes and functions are moved. Also note that the interface of the new CV iterators are different from that of this module. This module will be removed in 0.20.\n",
      "  \"This module will be removed in 0.20.\", DeprecationWarning)\n",
      "Using TensorFlow backend.\n"
     ]
    }
   ],
   "source": [
    "import numpy as np\n",
    "from skimage import io, color, exposure, transform\n",
    "from sklearn.cross_validation import train_test_split\n",
    "import os\n",
    "import glob\n",
    "import h5py\n",
    "\n",
    "from keras.preprocessing.image import ImageDataGenerator\n",
    "from keras.models import Sequential, model_from_json, load_model\n",
    "from keras.layers.core import Dense, Dropout, Activation, Flatten\n",
    "from keras.layers.convolutional import Conv2D\n",
    "from keras.layers.pooling import MaxPooling2D\n",
    "\n",
    "from keras.optimizers import SGD\n",
    "from keras.utils import np_utils\n",
    "from keras.callbacks import LearningRateScheduler, ModelCheckpoint\n",
    "from keras import backend as K\n",
    "K.set_image_data_format('channels_last')\n",
    "\n",
    "from matplotlib import pyplot as plt\n",
    "%matplotlib inline\n",
    "\n",
    "NUM_CLASSES = 6\n",
    "IMG_SIZE = 32"
   ]
  },
  {
   "cell_type": "markdown",
   "metadata": {},
   "source": [
    "## Preprocess image  \n",
    "1. equalize histogram\n",
    "2. central scrop\n",
    "3. rescale to 32x32"
   ]
  },
  {
   "cell_type": "code",
   "execution_count": 2,
   "metadata": {},
   "outputs": [],
   "source": [
    "def preprocess_img(img):\n",
    "    hsv = color.rgb2hsv(img)\n",
    "    hsv[:,:,2] = exposure.equalize_hist(hsv[:,:,2])\n",
    "    img = color.hsv2rgb(hsv)\n",
    "\n",
    "    min_side = min(img.shape[:-1])\n",
    "    centre = img.shape[0]//2, img.shape[1]//2\n",
    "    img = img[centre[0]-min_side//2:centre[0]+min_side//2,\n",
    "              centre[1]-min_side//2:centre[1]+min_side//2,\n",
    "              :]\n",
    "\n",
    "    img = transform.resize(img, (IMG_SIZE, IMG_SIZE))\n",
    "\n",
    "    return img\n",
    "\n",
    "\n",
    "def get_class(img_path):\n",
    "    return int(img_path.split('$')[1])"
   ]
  },
  {
   "cell_type": "markdown",
   "metadata": {},
   "source": [
    "## Collect training set\n",
    "The data was collected from LISA traffic sign data set, we would store the training data into X.h5 file in order to speed up next the process next time.  \n",
    "http://cvrr.ucsd.edu/LISA/lisa-traffic-sign-dataset.html"
   ]
  },
  {
   "cell_type": "code",
   "execution_count": 3,
   "metadata": {},
   "outputs": [
    {
     "name": "stdout",
     "output_type": "stream",
     "text": [
      "Error in reading X.h5. Processing all images...\n"
     ]
    },
    {
     "name": "stderr",
     "output_type": "stream",
     "text": [
      "E:\\anaconda\\lib\\site-packages\\skimage\\transform\\_warps.py:84: UserWarning: The default mode, 'constant', will be changed to 'reflect' in skimage 0.15.\n",
      "  warn(\"The default mode, 'constant', will be changed to 'reflect' in \"\n"
     ]
    },
    {
     "name": "stdout",
     "output_type": "stream",
     "text": [
      "Processed 1000/18642\n",
      "Processed 2000/18642\n",
      "Processed 3000/18642\n",
      "Processed 4000/18642\n",
      "Processed 5000/18642\n",
      "Processed 6000/18642\n",
      "Processed 7000/18642\n",
      "Processed 8000/18642\n",
      "Processed 9000/18642\n",
      "Processed 10000/18642\n",
      "Processed 11000/18642\n",
      "Processed 12000/18642\n",
      "Processed 13000/18642\n",
      "Processed 14000/18642\n",
      "Processed 15000/18642\n",
      "Processed 16000/18642\n",
      "Processed 17000/18642\n",
      "Processed 18000/18642\n"
     ]
    }
   ],
   "source": [
    "try:\n",
    "    with  h5py.File('X.h5') as hf: \n",
    "        X, y = hf['imgs'][:], hf['labels'][:]\n",
    "    print(\"Loaded images from X.h5\")\n",
    "    \n",
    "except (IOError,OSError, KeyError):  \n",
    "    print(\"Error in reading X.h5. Processing all images...\")\n",
    "    root_dir = 'training_set/'\n",
    "    imgs = []\n",
    "    labels = []\n",
    "    all_img_paths = glob.glob(os.path.join(root_dir, '*.png'))\n",
    "    np.random.shuffle(all_img_paths)\n",
    "    for img_path in all_img_paths:\n",
    "        try:\n",
    "            img = preprocess_img(io.imread(img_path))\n",
    "            label = get_class(img_path)\n",
    "            imgs.append(img)\n",
    "            labels.append(label)\n",
    "\n",
    "            if len(imgs)%1000 == 0: print(\"Processed {}/{}\".format(len(imgs), len(all_img_paths)))\n",
    "        except (IOError, OSError):\n",
    "            print('missed', img_path)\n",
    "            pass\n",
    "\n",
    "    X = np.array(imgs, dtype='float32')\n",
    "    y = np.eye(NUM_CLASSES, dtype='uint8')[labels]\n",
    "    with h5py.File('X.h5','w') as hf:\n",
    "        hf.create_dataset('imgs', data=X)\n",
    "        hf.create_dataset('labels', data=y)"
   ]
  },
  {
   "cell_type": "markdown",
   "metadata": {},
   "source": [
    "## Model architecture\n",
    "1. 6 convolutional layers with 3 max-pool and drop-out layers  \n",
    "2. 1 fully-connected layer to collect the features  \n",
    "3. Collect the result by softmax"
   ]
  },
  {
   "cell_type": "code",
   "execution_count": 4,
   "metadata": {
    "scrolled": false
   },
   "outputs": [],
   "source": [
    "def cnn_model():\n",
    "    model = Sequential()\n",
    "\n",
    "    model.add(Conv2D(32, (3, 3), padding='same',\n",
    "                     input_shape=(IMG_SIZE, IMG_SIZE, 3),\n",
    "                     activation='relu'))\n",
    "    model.add(Conv2D(32, (3, 3), activation='relu'))\n",
    "    model.add(MaxPooling2D(pool_size=(2, 2)))\n",
    "    model.add(Dropout(0.2))\n",
    "\n",
    "    model.add(Conv2D(64, (3, 3), padding='same',\n",
    "                     activation='relu'))\n",
    "    model.add(Conv2D(64, (3, 3), activation='relu'))\n",
    "    model.add(MaxPooling2D(pool_size=(2, 2)))\n",
    "    model.add(Dropout(0.2))\n",
    "\n",
    "    model.add(Conv2D(128, (3, 3), padding='same',\n",
    "                     activation='relu'))\n",
    "    model.add(Conv2D(128, (3, 3), activation='relu'))\n",
    "    model.add(MaxPooling2D(pool_size=(2, 2)))\n",
    "    model.add(Dropout(0.2))\n",
    "\n",
    "    model.add(Flatten())\n",
    "    model.add(Dense(512, activation='relu'))\n",
    "    model.add(Dropout(0.5))\n",
    "    model.add(Dense(NUM_CLASSES, activation='softmax'))\n",
    "    return model\n",
    "\n",
    "model = cnn_model()\n",
    "lr = 0.01\n",
    "sgd = SGD(lr=lr, decay=1e-6, momentum=0.9, nesterov=True)\n",
    "model.compile(loss='categorical_crossentropy',\n",
    "          optimizer=sgd,\n",
    "          metrics=['accuracy'])\n",
    "\n",
    "\n",
    "def lr_schedule(epoch):\n",
    "    return lr*(0.1**int(epoch/10))"
   ]
  },
  {
   "cell_type": "markdown",
   "metadata": {},
   "source": [
    "## Train the model"
   ]
  },
  {
   "cell_type": "code",
   "execution_count": 5,
   "metadata": {},
   "outputs": [
    {
     "name": "stdout",
     "output_type": "stream",
     "text": [
      "WARNING:tensorflow:Variable *= will be deprecated. Use variable.assign_mul if you want assignment to the variable value or 'x = x * y' if you want a new python Tensor object.\n",
      "Train on 14913 samples, validate on 3729 samples\n",
      "Epoch 1/30\n",
      "14913/14913 [==============================] - 10s 654us/step - loss: 0.3100 - acc: 0.8922 - val_loss: 0.0883 - val_acc: 0.9705\n",
      "Epoch 2/30\n",
      "14913/14913 [==============================] - 6s 420us/step - loss: 0.1010 - acc: 0.9672 - val_loss: 0.0681 - val_acc: 0.9791\n",
      "Epoch 3/30\n",
      "14913/14913 [==============================] - 6s 420us/step - loss: 0.0827 - acc: 0.9722 - val_loss: 0.0605 - val_acc: 0.9794\n",
      "Epoch 4/30\n",
      "14913/14913 [==============================] - 6s 411us/step - loss: 0.0688 - acc: 0.9759 - val_loss: 0.0427 - val_acc: 0.9890\n",
      "Epoch 5/30\n",
      "14913/14913 [==============================] - 6s 428us/step - loss: 0.0596 - acc: 0.9790 - val_loss: 0.0378 - val_acc: 0.9879\n",
      "Epoch 6/30\n",
      "14913/14913 [==============================] - 6s 411us/step - loss: 0.0542 - acc: 0.9820 - val_loss: 0.0480 - val_acc: 0.9866\n",
      "Epoch 7/30\n",
      "14913/14913 [==============================] - 6s 416us/step - loss: 0.0470 - acc: 0.9842 - val_loss: 0.0306 - val_acc: 0.9906\n",
      "Epoch 8/30\n",
      "14913/14913 [==============================] - 6s 430us/step - loss: 0.0419 - acc: 0.9853 - val_loss: 0.0312 - val_acc: 0.9885\n",
      "Epoch 9/30\n",
      "14913/14913 [==============================] - 6s 423us/step - loss: 0.0371 - acc: 0.9869 - val_loss: 0.0273 - val_acc: 0.9909\n",
      "Epoch 10/30\n",
      "14913/14913 [==============================] - 6s 421us/step - loss: 0.0333 - acc: 0.9889 - val_loss: 0.0288 - val_acc: 0.9917\n",
      "Epoch 11/30\n",
      "14913/14913 [==============================] - 6s 413us/step - loss: 0.0264 - acc: 0.9897 - val_loss: 0.0215 - val_acc: 0.9938\n",
      "Epoch 12/30\n",
      "14913/14913 [==============================] - 6s 417us/step - loss: 0.0209 - acc: 0.9922 - val_loss: 0.0215 - val_acc: 0.9941\n",
      "Epoch 13/30\n",
      "14913/14913 [==============================] - 6s 420us/step - loss: 0.0175 - acc: 0.9934 - val_loss: 0.0204 - val_acc: 0.9944\n",
      "Epoch 14/30\n",
      "14913/14913 [==============================] - 6s 419us/step - loss: 0.0174 - acc: 0.9933 - val_loss: 0.0210 - val_acc: 0.9936\n",
      "Epoch 15/30\n",
      "14913/14913 [==============================] - 6s 417us/step - loss: 0.0180 - acc: 0.9932 - val_loss: 0.0205 - val_acc: 0.9944\n",
      "Epoch 16/30\n",
      "14913/14913 [==============================] - 6s 429us/step - loss: 0.0161 - acc: 0.9939 - val_loss: 0.0199 - val_acc: 0.9941\n",
      "Epoch 17/30\n",
      "14913/14913 [==============================] - 6s 413us/step - loss: 0.0174 - acc: 0.9937 - val_loss: 0.0197 - val_acc: 0.9944\n",
      "Epoch 18/30\n",
      "14913/14913 [==============================] - 6s 413us/step - loss: 0.0138 - acc: 0.9946 - val_loss: 0.0211 - val_acc: 0.9938\n",
      "Epoch 19/30\n",
      "14913/14913 [==============================] - 6s 418us/step - loss: 0.0135 - acc: 0.9955 - val_loss: 0.0202 - val_acc: 0.9938\n",
      "Epoch 20/30\n",
      "14913/14913 [==============================] - 6s 412us/step - loss: 0.0139 - acc: 0.9947 - val_loss: 0.0194 - val_acc: 0.9941\n",
      "Epoch 21/30\n",
      "14913/14913 [==============================] - 6s 409us/step - loss: 0.0139 - acc: 0.9948 - val_loss: 0.0191 - val_acc: 0.9944\n",
      "Epoch 22/30\n",
      "14913/14913 [==============================] - 6s 423us/step - loss: 0.0134 - acc: 0.9952 - val_loss: 0.0191 - val_acc: 0.9941\n",
      "Epoch 23/30\n",
      "14913/14913 [==============================] - 6s 426us/step - loss: 0.0145 - acc: 0.9946 - val_loss: 0.0188 - val_acc: 0.9944\n",
      "Epoch 24/30\n",
      "14913/14913 [==============================] - 6s 417us/step - loss: 0.0135 - acc: 0.9950 - val_loss: 0.0190 - val_acc: 0.9944\n",
      "Epoch 25/30\n",
      "14913/14913 [==============================] - 6s 416us/step - loss: 0.0121 - acc: 0.9954 - val_loss: 0.0192 - val_acc: 0.9941\n",
      "Epoch 26/30\n",
      "14913/14913 [==============================] - 6s 420us/step - loss: 0.0135 - acc: 0.9954 - val_loss: 0.0191 - val_acc: 0.9944\n",
      "Epoch 27/30\n",
      "14913/14913 [==============================] - 6s 408us/step - loss: 0.0144 - acc: 0.9948 - val_loss: 0.0190 - val_acc: 0.9944\n",
      "Epoch 28/30\n",
      "14913/14913 [==============================] - 6s 413us/step - loss: 0.0139 - acc: 0.9946 - val_loss: 0.0191 - val_acc: 0.9941\n",
      "Epoch 29/30\n",
      "14913/14913 [==============================] - 6s 409us/step - loss: 0.0148 - acc: 0.9948 - val_loss: 0.0190 - val_acc: 0.9941\n",
      "Epoch 30/30\n",
      "14913/14913 [==============================] - 6s 419us/step - loss: 0.0130 - acc: 0.9950 - val_loss: 0.0191 - val_acc: 0.9941\n"
     ]
    }
   ],
   "source": [
    "batch_size = 32\n",
    "nb_epoch = 30\n",
    "\n",
    "history = model.fit(X, y,\n",
    "                  batch_size=batch_size,\n",
    "                  epochs=nb_epoch,\n",
    "                  validation_split=0.2,\n",
    "                  shuffle=True,\n",
    "                  callbacks=[LearningRateScheduler(lr_schedule),\n",
    "                            ModelCheckpoint('model.h5',save_best_only=True)])"
   ]
  },
  {
   "cell_type": "code",
   "execution_count": 6,
   "metadata": {},
   "outputs": [
    {
     "data": {
      "image/png": "[encoded data removed]",
      "text/plain": [
       "<matplotlib.figure.Figure at 0x2331e40f978>"
      ]
     },
     "metadata": {},
     "output_type": "display_data"
    },
    {
     "data": {
      "image/png": "[encoded data removed]",
      "text/plain": [
       "<matplotlib.figure.Figure at 0x2331e478978>"
      ]
     },
     "metadata": {},
     "output_type": "display_data"
    }
   ],
   "source": [
    "#  \"Accuracy\"\n",
    "plt.plot(history.history['acc'])\n",
    "# plt.plot(history.history['val_acc'])\n",
    "plt.title('model accuracy')\n",
    "plt.ylabel('accuracy')\n",
    "plt.xlabel('epoch')\n",
    "plt.legend(['train', 'validation'], loc='upper left')\n",
    "plt.show()\n",
    "# \"Loss\"\n",
    "plt.plot(history.history['loss'])\n",
    "# plt.plot(history.history['val_loss'])\n",
    "plt.title('model loss')\n",
    "plt.ylabel('loss')\n",
    "plt.xlabel('epoch')\n",
    "plt.legend(['train', 'validation'], loc='upper left')\n",
    "plt.show()"
   ]
  },
  {
   "cell_type": "code",
   "execution_count": 17,
   "metadata": {},
   "outputs": [
    {
     "name": "stderr",
     "output_type": "stream",
     "text": [
      "E:\\anaconda\\lib\\site-packages\\skimage\\transform\\_warps.py:84: UserWarning: The default mode, 'constant', will be changed to 'reflect' in skimage 0.15.\n",
      "  warn(\"The default mode, 'constant', will be changed to 'reflect' in \"\n"
     ]
    }
   ],
   "source": [
    "root_dir = 'testing_set/'\n",
    "X_test = []\n",
    "y_test = []\n",
    "all_img_paths = glob.glob(os.path.join(root_dir, '*.png'))\n",
    "np.random.shuffle(all_img_paths)\n",
    "for img_path in all_img_paths:\n",
    "    try:\n",
    "        img = preprocess_img(io.imread(img_path))\n",
    "        label = get_class(img_path)\n",
    "        X_test.append(img)\n",
    "        y_test.append(label)\n",
    "\n",
    "        if len(imgs)%1000 == 0: print(\"Processed {}/{}\".format(len(imgs), len(all_img_paths)))\n",
    "    except (IOError, OSError):\n",
    "        print('missed', img_path)\n",
    "        pass\n",
    "\n",
    "X_test = np.array(X_test)\n",
    "y_test = np.array(y_test)"
   ]
  },
  {
   "cell_type": "code",
   "execution_count": 18,
   "metadata": {},
   "outputs": [
    {
     "name": "stdout",
     "output_type": "stream",
     "text": [
      "Test accuracy = 0.7963365414467557\n"
     ]
    }
   ],
   "source": [
    "y_pred = model.predict_classes(X_test)\n",
    "acc = np.sum(y_pred==y_test)/np.size(y_pred)\n",
    "print(\"Test accuracy = {}\".format(acc))"
   ]
  },
  {
   "cell_type": "markdown",
   "metadata": {},
   "source": [
    "## Train with augmented dataset\n",
    "\n",
    "Using ImageDataGenerator to augment the training data  \n",
    "*  Sample-wise standardization  \n",
    "* Feature-wise standardization  \n",
    "* ZCA whitening  \n",
    "* Random rotation, shifts, shear and flips  \n",
    "* Dimension reordering  \n"
   ]
  },
  {
   "cell_type": "code",
   "execution_count": 10,
   "metadata": {},
   "outputs": [],
   "source": [
    "from sklearn.cross_validation import train_test_split\n",
    "\n",
    "X_train, X_val, y_train, y_val = train_test_split(X, y, test_size=0.2, random_state=42)\n",
    "\n",
    "datagen = ImageDataGenerator(featurewise_center=False, \n",
    "                             featurewise_std_normalization=False, \n",
    "                             width_shift_range=0.1,\n",
    "                             height_shift_range=0.1,\n",
    "                             zoom_range=0.2,\n",
    "                             shear_range=0.1,\n",
    "                             rotation_range=10.,)\n",
    "\n",
    "datagen.fit(X_train)"
   ]
  },
  {
   "cell_type": "code",
   "execution_count": 11,
   "metadata": {},
   "outputs": [],
   "source": [
    "model_aug = cnn_model()\n",
    "lr = 0.01\n",
    "sgd = SGD(lr=lr, decay=1e-6, momentum=0.9, nesterov=True)\n",
    "model_aug.compile(loss='categorical_crossentropy',\n",
    "          optimizer=sgd,\n",
    "          metrics=['accuracy'])\n",
    "\n",
    "\n",
    "def lr_schedule(epoch):\n",
    "    return lr*(0.1**int(epoch/10))"
   ]
  },
  {
   "cell_type": "code",
   "execution_count": 12,
   "metadata": {},
   "outputs": [
    {
     "name": "stdout",
     "output_type": "stream",
     "text": [
      "Epoch 1/30\n",
      "14913/14913 [==============================] - 211s 14ms/step - loss: 0.0686 - acc: 0.9768 - val_loss: 0.0095 - val_acc: 0.9962\n",
      "Epoch 2/30\n",
      "14913/14913 [==============================] - 206s 14ms/step - loss: 0.0233 - acc: 0.9920 - val_loss: 0.0118 - val_acc: 0.9968\n",
      "Epoch 3/30\n",
      "14913/14913 [==============================] - 204s 14ms/step - loss: 0.0122 - acc: 0.9957 - val_loss: 0.0105 - val_acc: 0.9965\n",
      "Epoch 4/30\n",
      "14913/14913 [==============================] - 207s 14ms/step - loss: 0.0085 - acc: 0.9969 - val_loss: 0.0086 - val_acc: 0.9968\n",
      "Epoch 5/30\n",
      "14913/14913 [==============================] - 197s 13ms/step - loss: 0.0067 - acc: 0.9976 - val_loss: 0.0090 - val_acc: 0.9981\n",
      "Epoch 6/30\n",
      "14913/14913 [==============================] - 198s 13ms/step - loss: 0.0055 - acc: 0.9980 - val_loss: 0.0099 - val_acc: 0.9973\n",
      "Epoch 7/30\n",
      "14913/14913 [==============================] - 198s 13ms/step - loss: 0.0047 - acc: 0.9982 - val_loss: 0.0092 - val_acc: 0.9976\n",
      "Epoch 8/30\n",
      "14913/14913 [==============================] - 262s 18ms/step - loss: 0.0043 - acc: 0.9985 - val_loss: 0.0117 - val_acc: 0.9968\n",
      "Epoch 9/30\n",
      "14913/14913 [==============================] - 349s 23ms/step - loss: 0.0044 - acc: 0.9984 - val_loss: 0.0103 - val_acc: 0.9971\n",
      "Epoch 10/30\n",
      "14913/14913 [==============================] - 371s 25ms/step - loss: 0.0041 - acc: 0.9986 - val_loss: 0.0084 - val_acc: 0.9981\n",
      "Epoch 11/30\n",
      "14913/14913 [==============================] - 381s 26ms/step - loss: 0.0016 - acc: 0.9994 - val_loss: 0.0093 - val_acc: 0.9976\n",
      "Epoch 12/30\n",
      "14913/14913 [==============================] - 329s 22ms/step - loss: 0.0014 - acc: 0.9995 - val_loss: 0.0093 - val_acc: 0.9976\n",
      "Epoch 13/30\n",
      "14913/14913 [==============================] - 212s 14ms/step - loss: 0.0013 - acc: 0.9995 - val_loss: 0.0097 - val_acc: 0.9979\n",
      "Epoch 14/30\n",
      "14913/14913 [==============================] - 216s 15ms/step - loss: 0.0011 - acc: 0.9996 - val_loss: 0.0099 - val_acc: 0.9976\n",
      "Epoch 15/30\n",
      "14913/14913 [==============================] - 210s 14ms/step - loss: 0.0011 - acc: 0.9996 - val_loss: 0.0095 - val_acc: 0.9976\n",
      "Epoch 16/30\n",
      "14913/14913 [==============================] - 218s 15ms/step - loss: 0.0011 - acc: 0.9996 - val_loss: 0.0092 - val_acc: 0.9981\n",
      "Epoch 17/30\n",
      "14913/14913 [==============================] - 216s 15ms/step - loss: 9.9628e-04 - acc: 0.9996 - val_loss: 0.0099 - val_acc: 0.9981\n",
      "Epoch 18/30\n",
      "14913/14913 [==============================] - 208s 14ms/step - loss: 0.0010 - acc: 0.9996 - val_loss: 0.0088 - val_acc: 0.9981\n",
      "Epoch 19/30\n",
      "14913/14913 [==============================] - 221s 15ms/step - loss: 9.5460e-04 - acc: 0.9997 - val_loss: 0.0097 - val_acc: 0.9979\n",
      "Epoch 20/30\n",
      "14913/14913 [==============================] - 212s 14ms/step - loss: 9.5933e-04 - acc: 0.9996 - val_loss: 0.0098 - val_acc: 0.9979\n",
      "Epoch 21/30\n",
      "14913/14913 [==============================] - 220s 15ms/step - loss: 8.1226e-04 - acc: 0.9997 - val_loss: 0.0098 - val_acc: 0.9976\n",
      "Epoch 22/30\n",
      "14913/14913 [==============================] - 219s 15ms/step - loss: 7.2455e-04 - acc: 0.9997 - val_loss: 0.0097 - val_acc: 0.9976\n",
      "Epoch 23/30\n",
      "14913/14913 [==============================] - 214s 14ms/step - loss: 8.0595e-04 - acc: 0.9997 - val_loss: 0.0097 - val_acc: 0.9976\n",
      "Epoch 24/30\n",
      "14913/14913 [==============================] - 224s 15ms/step - loss: 8.4378e-04 - acc: 0.9997 - val_loss: 0.0097 - val_acc: 0.9976\n",
      "Epoch 25/30\n",
      "14913/14913 [==============================] - 215s 14ms/step - loss: 8.2978e-04 - acc: 0.9997 - val_loss: 0.0096 - val_acc: 0.9976\n",
      "Epoch 26/30\n",
      "14913/14913 [==============================] - 228s 15ms/step - loss: 8.5376e-04 - acc: 0.9997 - val_loss: 0.0099 - val_acc: 0.9976\n",
      "Epoch 27/30\n",
      "14913/14913 [==============================] - 223s 15ms/step - loss: 8.2221e-04 - acc: 0.9997 - val_loss: 0.0097 - val_acc: 0.9976\n",
      "Epoch 28/30\n",
      "14913/14913 [==============================] - 207s 14ms/step - loss: 6.9452e-04 - acc: 0.9997 - val_loss: 0.0096 - val_acc: 0.9976\n",
      "Epoch 29/30\n",
      "14913/14913 [==============================] - 217s 15ms/step - loss: 8.8680e-04 - acc: 0.9997 - val_loss: 0.0097 - val_acc: 0.9979\n",
      "Epoch 30/30\n",
      "14913/14913 [==============================] - 212s 14ms/step - loss: 7.3074e-04 - acc: 0.9997 - val_loss: 0.0097 - val_acc: 0.9981\n"
     ]
    }
   ],
   "source": [
    "nb_epoch = 30\n",
    "history = model_aug.fit_generator(datagen.flow(X_train, y_train, batch_size=batch_size),\n",
    "                                    steps_per_epoch=X_train.shape[0],\n",
    "                                    epochs=nb_epoch,\n",
    "                                    validation_data=(X_val, y_val),\n",
    "                                    callbacks=[LearningRateScheduler(lr_schedule),\n",
    "                                               ModelCheckpoint('model.h5',save_best_only=True)])"
   ]
  },
  {
   "cell_type": "code",
   "execution_count": 13,
   "metadata": {},
   "outputs": [
    {
     "name": "stdout",
     "output_type": "stream",
     "text": [
      "Test accuracy = 0.7935247403787417\n"
     ]
    }
   ],
   "source": [
    "y_pred = model_aug.predict_classes(X_test)\n",
    "acc = np.sum(y_pred==y_test)/np.size(y_pred)\n",
    "print(\"Test accuracy = {}\".format(acc))"
   ]
  },
  {
   "cell_type": "code",
   "execution_count": 14,
   "metadata": {},
   "outputs": [
    {
     "name": "stdout",
     "output_type": "stream",
     "text": [
      "_________________________________________________________________\n",
      "Layer (type)                 Output Shape              Param #   \n",
      "=================================================================\n",
      "conv2d_1 (Conv2D)            (None, 32, 32, 32)        896       \n",
      "_________________________________________________________________\n",
      "conv2d_2 (Conv2D)            (None, 30, 30, 32)        9248      \n",
      "_________________________________________________________________\n",
      "max_pooling2d_1 (MaxPooling2 (None, 15, 15, 32)        0         \n",
      "_________________________________________________________________\n",
      "dropout_1 (Dropout)          (None, 15, 15, 32)        0         \n",
      "_________________________________________________________________\n",
      "conv2d_3 (Conv2D)            (None, 15, 15, 64)        18496     \n",
      "_________________________________________________________________\n",
      "conv2d_4 (Conv2D)            (None, 13, 13, 64)        36928     \n",
      "_________________________________________________________________\n",
      "max_pooling2d_2 (MaxPooling2 (None, 6, 6, 64)          0         \n",
      "_________________________________________________________________\n",
      "dropout_2 (Dropout)          (None, 6, 6, 64)          0         \n",
      "_________________________________________________________________\n",
      "conv2d_5 (Conv2D)            (None, 6, 6, 128)         73856     \n",
      "_________________________________________________________________\n",
      "conv2d_6 (Conv2D)            (None, 4, 4, 128)         147584    \n",
      "_________________________________________________________________\n",
      "max_pooling2d_3 (MaxPooling2 (None, 2, 2, 128)         0         \n",
      "_________________________________________________________________\n",
      "dropout_3 (Dropout)          (None, 2, 2, 128)         0         \n",
      "_________________________________________________________________\n",
      "flatten_1 (Flatten)          (None, 512)               0         \n",
      "_________________________________________________________________\n",
      "dense_1 (Dense)              (None, 512)               262656    \n",
      "_________________________________________________________________\n",
      "dropout_4 (Dropout)          (None, 512)               0         \n",
      "_________________________________________________________________\n",
      "dense_2 (Dense)              (None, 6)                 3078      \n",
      "=================================================================\n",
      "Total params: 552,742\n",
      "Trainable params: 552,742\n",
      "Non-trainable params: 0\n",
      "_________________________________________________________________\n"
     ]
    }
   ],
   "source": [
    "model.summary()"
   ]
  },
  {
   "cell_type": "markdown",
   "metadata": {},
   "source": [
    "## Training result with plot and confusion matrix"
   ]
  },
  {
   "cell_type": "code",
   "execution_count": 15,
   "metadata": {},
   "outputs": [
    {
     "data": {
      "image/png": "[encoded data removed]",
      "text/plain": [
       "<matplotlib.figure.Figure at 0x233e1f43f28>"
      ]
     },
     "metadata": {},
     "output_type": "display_data"
    },
    {
     "data": {
      "image/png": "[encoded data removed]",
      "text/plain": [
       "<matplotlib.figure.Figure at 0x233e1eda2b0>"
      ]
     },
     "metadata": {},
     "output_type": "display_data"
    }
   ],
   "source": [
    "#  \"Accuracy\"\n",
    "plt.plot(history.history['acc'])\n",
    "plt.plot(history.history['val_acc'])\n",
    "plt.title('model accuracy')\n",
    "plt.ylabel('accuracy')\n",
    "plt.xlabel('epoch')\n",
    "plt.legend(['train', 'validation'], loc='upper left')\n",
    "plt.show()\n",
    "# \"Loss\"\n",
    "plt.plot(history.history['loss'])\n",
    "plt.plot(history.history['val_loss'])\n",
    "plt.title('model loss')\n",
    "plt.ylabel('loss')\n",
    "plt.xlabel('epoch')\n",
    "plt.legend(['train', 'validation'], loc='upper left')\n",
    "plt.show()"
   ]
  },
  {
   "cell_type": "code",
   "execution_count": 16,
   "metadata": {},
   "outputs": [
    {
     "data": {
      "image/png": "[encoded data removed]",
      "text/plain": [
       "<matplotlib.figure.Figure at 0x233e1eba4a8>"
      ]
     },
     "metadata": {},
     "output_type": "display_data"
    }
   ],
   "source": [
    "from sklearn.metrics import confusion_matrix\n",
    "import itertools\n",
    "cm = confusion_matrix(y_test, y_pred)\n",
    "\n",
    "plt.figure(figsize=(10,10))  \n",
    "plt.imshow(cm, interpolation='nearest', cmap=plt.cm.Blues)\n",
    "tick_marks = np.arange(NUM_CLASSES)\n",
    "\n",
    "plt.xticks(range(NUM_CLASSES))\n",
    "plt.yticks(range(NUM_CLASSES))\n",
    "plt.xticks(rotation=90)\n",
    "plt.xticks(fontsize = 12)\n",
    "plt.yticks(fontsize = 12)\n",
    "plt.xlabel('Predicted', fontsize = 16)\n",
    "plt.ylabel('True', fontsize= 16)\n",
    "thresh = cm.max() / 2.\n",
    "for i, j in itertools.product(range(cm.shape[0]), range(cm.shape[1])):\n",
    "    plt.text(j, i, cm[i, j],horizontalalignment=\"center\",\n",
    "             color=\"white\" if cm[i, j] > thresh else \"black\")\n",
    "plt.show()\n"
   ]
  },
  {
   "cell_type": "markdown",
   "metadata": {},
   "source": [
    "## Save the model and convert the Keras model into coreML for iOS"
   ]
  },
  {
   "cell_type": "code",
   "execution_count": 24,
   "metadata": {},
   "outputs": [],
   "source": [
    "model_aug.save(\"traffic_sign_classifier_model.h5\")"
   ]
  },
  {
   "cell_type": "code",
   "execution_count": 5,
   "metadata": {},
   "outputs": [],
   "source": [
    "model_aug = load_model(\"traffic_sign_classifier_model.h5\")"
   ]
  },
  {
   "cell_type": "code",
   "execution_count": 6,
   "metadata": {},
   "outputs": [
    {
     "name": "stdout",
     "output_type": "stream",
     "text": [
      "0 : conv2d_21_input, <keras.engine.topology.InputLayer object at 0x7f969e0edb38>\n",
      "1 : conv2d_21, <keras.layers.convolutional.Conv2D object at 0x7f969e0ed748>\n",
      "2 : conv2d_21__activation__, <keras.layers.core.Activation object at 0x7f96ae298208>\n",
      "3 : conv2d_22, <keras.layers.convolutional.Conv2D object at 0x7f969e0edda0>\n",
      "4 : conv2d_22__activation__, <keras.layers.core.Activation object at 0x7f96ae298470>\n",
      "5 : max_pooling2d_11, <keras.layers.pooling.MaxPooling2D object at 0x7f969e0edc88>\n",
      "6 : conv2d_23, <keras.layers.convolutional.Conv2D object at 0x7f969e09f400>\n",
      "7 : conv2d_23__activation__, <keras.layers.core.Activation object at 0x7f96ae2984e0>\n",
      "8 : conv2d_24, <keras.layers.convolutional.Conv2D object at 0x7f969e08e4a8>\n",
      "9 : conv2d_24__activation__, <keras.layers.core.Activation object at 0x7f96ae2983c8>\n",
      "10 : max_pooling2d_12, <keras.layers.pooling.MaxPooling2D object at 0x7f969e0bcb00>\n",
      "11 : conv2d_25, <keras.layers.convolutional.Conv2D object at 0x7f969e05cf98>\n",
      "12 : conv2d_25__activation__, <keras.layers.core.Activation object at 0x7f96ae298668>\n",
      "13 : conv2d_26, <keras.layers.convolutional.Conv2D object at 0x7f969e04f630>\n",
      "14 : conv2d_26__activation__, <keras.layers.core.Activation object at 0x7f96ae298550>\n",
      "15 : max_pooling2d_13, <keras.layers.pooling.MaxPooling2D object at 0x7f969e016fd0>\n",
      "16 : flatten_4, <keras.layers.core.Flatten object at 0x7f969dbd5c88>\n",
      "17 : dense_7, <keras.layers.core.Dense object at 0x7f969dbe8470>\n",
      "18 : dense_7__activation__, <keras.layers.core.Activation object at 0x7f96ae298710>\n",
      "19 : dense_8, <keras.layers.core.Dense object at 0x7f969dbaba90>\n",
      "20 : dense_8__activation__, <keras.layers.core.Activation object at 0x7f96ae298588>\n"
     ]
    }
   ],
   "source": [
    "import coremltools\n",
    "coreml_model = coremltools.converters.keras.convert(model_aug, input_names='image',\n",
    "                                                    image_input_names='image',\n",
    "                                                    image_scale=1/255.0,\n",
    "                                                    class_labels=['speedLimit25', 'speedLimit30', 'speedLimit35', 'speedLimit40', 'speedLimit45', 'speedLimit50', 'speedLimit55', 'speedLimit65', 'stop', 'stopAhead', 'slow', 'pedestrianCrossing', 'school', 'schoolSpeedLimit25'])\n",
    "#                                                     class_labels=[i for i in range(14)])\n",
    "coreml_model.save('traffic_sign_classifier_model.mlmodel')"
   ]
  }
 ],
 "metadata": {
  "kernelspec": {
   "display_name": "Python 3",
   "language": "python",
   "name": "python3"
  },
  "language_info": {
   "codemirror_mode": {
    "name": "ipython",
    "version": 3
   },
   "file_extension": ".py",
   "mimetype": "text/x-python",
   "name": "python",
   "nbconvert_exporter": "python",
   "pygments_lexer": "ipython3",
   "version": "3.6.5"
  }
 },
 "nbformat": 4,
 "nbformat_minor": 2
}
