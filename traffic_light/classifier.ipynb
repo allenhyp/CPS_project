{
 "cells": [
  {
   "cell_type": "markdown",
   "metadata": {},
   "source": [
    "Traffic sign classifcation\n",
    "====================\n",
    "\n",
    "\\#Convolutional Neural Network  \n",
    "\\#LISA dataset  \n",
    "\\#Keras  \n",
    "\\#iOS coreML"
   ]
  },
  {
   "cell_type": "code",
   "execution_count": 2,
   "metadata": {},
   "outputs": [
    {
     "name": "stderr",
     "output_type": "stream",
     "text": [
      "E:\\anaconda\\lib\\site-packages\\sklearn\\cross_validation.py:41: DeprecationWarning: This module was deprecated in version 0.18 in favor of the model_selection module into which all the refactored classes and functions are moved. Also note that the interface of the new CV iterators are different from that of this module. This module will be removed in 0.20.\n",
      "  \"This module will be removed in 0.20.\", DeprecationWarning)\n",
      "Using TensorFlow backend.\n"
     ]
    }
   ],
   "source": [
    "import numpy as np\n",
    "from skimage import io, color, exposure, transform\n",
    "from sklearn.cross_validation import train_test_split\n",
    "import os\n",
    "import glob\n",
    "import h5py\n",
    "\n",
    "from keras.preprocessing.image import ImageDataGenerator\n",
    "from keras.models import Sequential, model_from_json, load_model\n",
    "from keras.layers.core import Dense, Dropout, Activation, Flatten\n",
    "from keras.layers.convolutional import Conv2D\n",
    "from keras.layers.pooling import MaxPooling2D\n",
    "\n",
    "from keras.optimizers import SGD\n",
    "from keras.utils import np_utils\n",
    "from keras.callbacks import LearningRateScheduler, ModelCheckpoint\n",
    "from keras import backend as K\n",
    "K.set_image_data_format('channels_last')\n",
    "\n",
    "from matplotlib import pyplot as plt\n",
    "%matplotlib inline\n",
    "\n",
    "NUM_CLASSES = 6\n",
    "IMG_SIZE = 32"
   ]
  },
  {
   "cell_type": "markdown",
   "metadata": {},
   "source": [
    "## Preprocess image  \n",
    "1. equalize histogram\n",
    "2. central scrop\n",
    "3. rescale to 32x32"
   ]
  },
  {
   "cell_type": "code",
   "execution_count": 3,
   "metadata": {},
   "outputs": [],
   "source": [
    "def preprocess_img(img):\n",
    "    hsv = color.rgb2hsv(img)\n",
    "    hsv[:,:,2] = exposure.equalize_hist(hsv[:,:,2])\n",
    "    img = color.hsv2rgb(hsv)\n",
    "\n",
    "    min_side = min(img.shape[:-1])\n",
    "    centre = img.shape[0]//2, img.shape[1]//2\n",
    "    img = img[centre[0]-min_side//2:centre[0]+min_side//2,\n",
    "              centre[1]-min_side//2:centre[1]+min_side//2,\n",
    "              :]\n",
    "\n",
    "    img = transform.resize(img, (IMG_SIZE, IMG_SIZE))\n",
    "\n",
    "    return img\n",
    "\n",
    "\n",
    "def get_class(img_path):\n",
    "    return int(img_path.split('$')[1])"
   ]
  },
  {
   "cell_type": "markdown",
   "metadata": {},
   "source": [
    "## Collect training set\n",
    "The data was collected from LISA traffic sign data set, we would store the training data into X.h5 file in order to speed up next the process next time.  \n",
    "http://cvrr.ucsd.edu/LISA/lisa-traffic-sign-dataset.html"
   ]
  },
  {
   "cell_type": "code",
   "execution_count": 4,
   "metadata": {},
   "outputs": [
    {
     "name": "stdout",
     "output_type": "stream",
     "text": [
      "Error in reading X.h5. Processing all images...\n"
     ]
    },
    {
     "name": "stderr",
     "output_type": "stream",
     "text": [
      "E:\\anaconda\\lib\\site-packages\\skimage\\transform\\_warps.py:84: UserWarning: The default mode, 'constant', will be changed to 'reflect' in skimage 0.15.\n",
      "  warn(\"The default mode, 'constant', will be changed to 'reflect' in \"\n"
     ]
    },
    {
     "name": "stdout",
     "output_type": "stream",
     "text": [
      "Processed 1000/18642\n",
      "Processed 2000/18642\n",
      "Processed 3000/18642\n",
      "Processed 4000/18642\n",
      "Processed 5000/18642\n",
      "Processed 6000/18642\n",
      "Processed 7000/18642\n",
      "Processed 8000/18642\n",
      "Processed 9000/18642\n",
      "Processed 10000/18642\n",
      "Processed 11000/18642\n",
      "Processed 12000/18642\n",
      "Processed 13000/18642\n",
      "Processed 14000/18642\n",
      "Processed 15000/18642\n",
      "Processed 16000/18642\n",
      "Processed 17000/18642\n",
      "Processed 18000/18642\n"
     ]
    }
   ],
   "source": [
    "try:\n",
    "    with  h5py.File('X.h5') as hf: \n",
    "        X, y = hf['imgs'][:], hf['labels'][:]\n",
    "    print(\"Loaded images from X.h5\")\n",
    "    \n",
    "except (IOError,OSError, KeyError):  \n",
    "    print(\"Error in reading X.h5. Processing all images...\")\n",
    "    root_dir = 'training_set/'\n",
    "    imgs = []\n",
    "    labels = []\n",
    "    all_img_paths = glob.glob(os.path.join(root_dir, '*.png'))\n",
    "    np.random.shuffle(all_img_paths)\n",
    "    for img_path in all_img_paths:\n",
    "        try:\n",
    "            img = preprocess_img(io.imread(img_path))\n",
    "            label = get_class(img_path)\n",
    "            imgs.append(img)\n",
    "            labels.append(label)\n",
    "\n",
    "            if len(imgs)%1000 == 0: print(\"Processed {}/{}\".format(len(imgs), len(all_img_paths)))\n",
    "        except (IOError, OSError):\n",
    "            print('missed', img_path)\n",
    "            pass\n",
    "\n",
    "    X = np.array(imgs, dtype='float32')\n",
    "    y = np.eye(NUM_CLASSES, dtype='uint8')[labels]\n",
    "    with h5py.File('X.h5','w') as hf:\n",
    "        hf.create_dataset('imgs', data=X)\n",
    "        hf.create_dataset('labels', data=y)"
   ]
  },
  {
   "cell_type": "markdown",
   "metadata": {},
   "source": [
    "## Model architecture\n",
    "1. 6 convolutional layers with 3 max-pool and drop-out layers  \n",
    "2. 1 fully-connected layer to collect the features  \n",
    "3. Collect the result by softmax"
   ]
  },
  {
   "cell_type": "code",
   "execution_count": 5,
   "metadata": {
    "scrolled": false
   },
   "outputs": [],
   "source": [
    "def cnn_model():\n",
    "    model = Sequential()\n",
    "\n",
    "    model.add(Conv2D(32, (3, 3), padding='same',\n",
    "                     input_shape=(IMG_SIZE, IMG_SIZE, 3),\n",
    "                     activation='relu'))\n",
    "    model.add(Conv2D(32, (3, 3), activation='relu'))\n",
    "    model.add(MaxPooling2D(pool_size=(2, 2)))\n",
    "    model.add(Dropout(0.2))\n",
    "\n",
    "    model.add(Conv2D(64, (3, 3), padding='same',\n",
    "                     activation='relu'))\n",
    "    model.add(Conv2D(64, (3, 3), activation='relu'))\n",
    "    model.add(MaxPooling2D(pool_size=(2, 2)))\n",
    "    model.add(Dropout(0.2))\n",
    "\n",
    "    model.add(Conv2D(128, (3, 3), padding='same',\n",
    "                     activation='relu'))\n",
    "    model.add(Conv2D(128, (3, 3), activation='relu'))\n",
    "    model.add(MaxPooling2D(pool_size=(2, 2)))\n",
    "    model.add(Dropout(0.2))\n",
    "\n",
    "    model.add(Flatten())\n",
    "    model.add(Dense(512, activation='relu'))\n",
    "    model.add(Dropout(0.5))\n",
    "    model.add(Dense(NUM_CLASSES, activation='softmax'))\n",
    "    return model\n",
    "\n",
    "model = cnn_model()\n",
    "lr = 0.01\n",
    "sgd = SGD(lr=lr, decay=1e-6, momentum=0.9, nesterov=True)\n",
    "model.compile(loss='categorical_crossentropy',\n",
    "          optimizer=sgd,\n",
    "          metrics=['accuracy'])\n",
    "\n",
    "\n",
    "def lr_schedule(epoch):\n",
    "    return lr*(0.1**int(epoch/10))"
   ]
  },
  {
   "cell_type": "markdown",
   "metadata": {},
   "source": [
    "## Train the model"
   ]
  },
  {
   "cell_type": "code",
   "execution_count": 6,
   "metadata": {},
   "outputs": [
    {
     "name": "stdout",
     "output_type": "stream",
     "text": [
      "WARNING:tensorflow:Variable *= will be deprecated. Use variable.assign_mul if you want assignment to the variable value or 'x = x * y' if you want a new python Tensor object.\n",
      "Train on 14913 samples, validate on 3729 samples\n",
      "Epoch 1/30\n",
      "14913/14913 [==============================] - 11s 770us/step - loss: 0.2852 - acc: 0.9057 - val_loss: 0.1069 - val_acc: 0.9686\n",
      "Epoch 2/30\n",
      "14913/14913 [==============================] - 6s 416us/step - loss: 0.1009 - acc: 0.9679 - val_loss: 0.3451 - val_acc: 0.8504\n",
      "Epoch 3/30\n",
      "14913/14913 [==============================] - 6s 416us/step - loss: 0.0834 - acc: 0.9724 - val_loss: 0.0931 - val_acc: 0.9702\n",
      "Epoch 4/30\n",
      "14913/14913 [==============================] - 6s 429us/step - loss: 0.0655 - acc: 0.9781 - val_loss: 0.0721 - val_acc: 0.9772\n",
      "Epoch 5/30\n",
      "14913/14913 [==============================] - 6s 430us/step - loss: 0.0603 - acc: 0.9804 - val_loss: 0.0522 - val_acc: 0.9818\n",
      "Epoch 6/30\n",
      "14913/14913 [==============================] - 6s 421us/step - loss: 0.0526 - acc: 0.9825 - val_loss: 0.0400 - val_acc: 0.9863\n",
      "Epoch 7/30\n",
      "14913/14913 [==============================] - 7s 448us/step - loss: 0.0448 - acc: 0.9839 - val_loss: 0.0324 - val_acc: 0.9874\n",
      "Epoch 8/30\n",
      "14913/14913 [==============================] - 6s 432us/step - loss: 0.0429 - acc: 0.9854 - val_loss: 0.0285 - val_acc: 0.9869\n",
      "Epoch 9/30\n",
      "14913/14913 [==============================] - 6s 415us/step - loss: 0.0352 - acc: 0.9875 - val_loss: 0.0312 - val_acc: 0.9863\n",
      "Epoch 10/30\n",
      "14913/14913 [==============================] - 6s 417us/step - loss: 0.0325 - acc: 0.9888 - val_loss: 0.0261 - val_acc: 0.9898\n",
      "Epoch 11/30\n",
      "14913/14913 [==============================] - 6s 415us/step - loss: 0.0222 - acc: 0.9919 - val_loss: 0.0218 - val_acc: 0.9901\n",
      "Epoch 12/30\n",
      "14913/14913 [==============================] - 6s 426us/step - loss: 0.0201 - acc: 0.9928 - val_loss: 0.0215 - val_acc: 0.9909\n",
      "Epoch 13/30\n",
      "14913/14913 [==============================] - 6s 432us/step - loss: 0.0182 - acc: 0.9933 - val_loss: 0.0193 - val_acc: 0.9922\n",
      "Epoch 14/30\n",
      "14913/14913 [==============================] - 7s 463us/step - loss: 0.0156 - acc: 0.9946 - val_loss: 0.0193 - val_acc: 0.9928\n",
      "Epoch 15/30\n",
      "14913/14913 [==============================] - 6s 421us/step - loss: 0.0164 - acc: 0.9942 - val_loss: 0.0186 - val_acc: 0.9933\n",
      "Epoch 16/30\n",
      "14913/14913 [==============================] - 6s 425us/step - loss: 0.0151 - acc: 0.9942 - val_loss: 0.0198 - val_acc: 0.9922\n",
      "Epoch 17/30\n",
      "14913/14913 [==============================] - 6s 424us/step - loss: 0.0160 - acc: 0.9941 - val_loss: 0.0184 - val_acc: 0.9938\n",
      "Epoch 18/30\n",
      "14913/14913 [==============================] - 6s 423us/step - loss: 0.0138 - acc: 0.9945 - val_loss: 0.0174 - val_acc: 0.9938\n",
      "Epoch 19/30\n",
      "14913/14913 [==============================] - 6s 422us/step - loss: 0.0132 - acc: 0.9954 - val_loss: 0.0175 - val_acc: 0.9938\n",
      "Epoch 20/30\n",
      "14913/14913 [==============================] - 6s 423us/step - loss: 0.0140 - acc: 0.9950 - val_loss: 0.0197 - val_acc: 0.9936\n",
      "Epoch 21/30\n",
      "14913/14913 [==============================] - 6s 423us/step - loss: 0.0124 - acc: 0.9949 - val_loss: 0.0183 - val_acc: 0.9936\n",
      "Epoch 22/30\n",
      "14913/14913 [==============================] - 6s 431us/step - loss: 0.0113 - acc: 0.9954 - val_loss: 0.0183 - val_acc: 0.9938\n",
      "Epoch 23/30\n",
      "14913/14913 [==============================] - 6s 427us/step - loss: 0.0117 - acc: 0.9956 - val_loss: 0.0183 - val_acc: 0.9938\n",
      "Epoch 24/30\n",
      "14913/14913 [==============================] - 6s 430us/step - loss: 0.0125 - acc: 0.9952 - val_loss: 0.0183 - val_acc: 0.9938\n",
      "Epoch 25/30\n",
      "14913/14913 [==============================] - 6s 428us/step - loss: 0.0131 - acc: 0.9955 - val_loss: 0.0181 - val_acc: 0.9938\n",
      "Epoch 26/30\n",
      "14913/14913 [==============================] - 6s 429us/step - loss: 0.0133 - acc: 0.9948 - val_loss: 0.0181 - val_acc: 0.9936\n",
      "Epoch 27/30\n",
      "14913/14913 [==============================] - 7s 437us/step - loss: 0.0114 - acc: 0.9958 - val_loss: 0.0183 - val_acc: 0.9936\n",
      "Epoch 28/30\n",
      "14913/14913 [==============================] - 6s 429us/step - loss: 0.0132 - acc: 0.9950 - val_loss: 0.0186 - val_acc: 0.9936\n",
      "Epoch 29/30\n",
      "14913/14913 [==============================] - 6s 431us/step - loss: 0.0111 - acc: 0.9958 - val_loss: 0.0182 - val_acc: 0.9936\n",
      "Epoch 30/30\n",
      "14913/14913 [==============================] - 6s 429us/step - loss: 0.0125 - acc: 0.9954 - val_loss: 0.0180 - val_acc: 0.9936\n"
     ]
    }
   ],
   "source": [
    "batch_size = 32\n",
    "nb_epoch = 30\n",
    "\n",
    "history = model.fit(X, y,\n",
    "                  batch_size=batch_size,\n",
    "                  epochs=nb_epoch,\n",
    "                  validation_split=0.2,\n",
    "                  shuffle=True,\n",
    "                  callbacks=[LearningRateScheduler(lr_schedule),\n",
    "                            ModelCheckpoint('model.h5',save_best_only=True)])"
   ]
  },
  {
   "cell_type": "code",
   "execution_count": 10,
   "metadata": {},
   "outputs": [
    {
     "data": {
      "image/png": "[encoded data removed]",
      "text/plain": [
       "<matplotlib.figure.Figure at 0x2436f17d240>"
      ]
     },
     "metadata": {},
     "output_type": "display_data"
    },
    {
     "data": {
      "image/png": "[encoded data removed]",
      "text/plain": [
       "<matplotlib.figure.Figure at 0x2433477ff28>"
      ]
     },
     "metadata": {},
     "output_type": "display_data"
    }
   ],
   "source": [
    "#  \"Accuracy\"\n",
    "plt.plot(history.history['acc'])\n",
    "# plt.plot(history.history['val_acc'])\n",
    "plt.title('model accuracy')\n",
    "plt.ylabel('accuracy')\n",
    "plt.xlabel('epoch')\n",
    "plt.legend(['train', 'validation'], loc='upper left')\n",
    "plt.show()\n",
    "# \"Loss\"\n",
    "plt.plot(history.history['loss'])\n",
    "# plt.plot(history.history['val_loss'])\n",
    "plt.title('model loss')\n",
    "plt.ylabel('loss')\n",
    "plt.xlabel('epoch')\n",
    "plt.legend(['train', 'validation'], loc='upper left')\n",
    "plt.show()"
   ]
  },
  {
   "cell_type": "code",
   "execution_count": 11,
   "metadata": {},
   "outputs": [
    {
     "name": "stderr",
     "output_type": "stream",
     "text": [
      "E:\\anaconda\\lib\\site-packages\\skimage\\transform\\_warps.py:84: UserWarning: The default mode, 'constant', will be changed to 'reflect' in skimage 0.15.\n",
      "  warn(\"The default mode, 'constant', will be changed to 'reflect' in \"\n"
     ]
    }
   ],
   "source": [
    "root_dir = 'testing_set/'\n",
    "X_test = []\n",
    "y_test = []\n",
    "all_img_paths = glob.glob(os.path.join(root_dir, '*.png'))\n",
    "np.random.shuffle(all_img_paths)\n",
    "for img_path in all_img_paths:\n",
    "    try:\n",
    "        img = preprocess_img(io.imread(img_path))\n",
    "        label = get_class(img_path)\n",
    "        X_test.append(img)\n",
    "        y_test.append(label)\n",
    "\n",
    "        if len(imgs)%1000 == 0: print(\"Processed {}/{}\".format(len(imgs), len(all_img_paths)))\n",
    "    except (IOError, OSError):\n",
    "        print('missed', img_path)\n",
    "        pass\n",
    "\n",
    "X_test = np.array(X_test)\n",
    "y_test = np.array(y_test)"
   ]
  },
  {
   "cell_type": "code",
   "execution_count": 12,
   "metadata": {},
   "outputs": [
    {
     "name": "stdout",
     "output_type": "stream",
     "text": [
      "Test accuracy = 0.9896151496640195\n"
     ]
    }
   ],
   "source": [
    "y_pred = model.predict_classes(X_test)\n",
    "acc = np.sum(y_pred==y_test)/np.size(y_pred)\n",
    "print(\"Test accuracy = {}\".format(acc))"
   ]
  },
  {
   "cell_type": "markdown",
   "metadata": {},
   "source": [
    "## Train with augmented dataset\n",
    "\n",
    "Using ImageDataGenerator to augment the training data  \n",
    "*  Sample-wise standardization  \n",
    "* Feature-wise standardization  \n",
    "* ZCA whitening  \n",
    "* Random rotation, shifts, shear and flips  \n",
    "* Dimension reordering  \n"
   ]
  },
  {
   "cell_type": "code",
   "execution_count": 13,
   "metadata": {},
   "outputs": [],
   "source": [
    "from sklearn.cross_validation import train_test_split\n",
    "\n",
    "X_train, X_val, y_train, y_val = train_test_split(X, y, test_size=0.2, random_state=42)\n",
    "\n",
    "datagen = ImageDataGenerator(featurewise_center=False, \n",
    "                             featurewise_std_normalization=False, \n",
    "                             width_shift_range=0.1,\n",
    "                             height_shift_range=0.1,\n",
    "                             zoom_range=0.2,\n",
    "                             shear_range=0.1,\n",
    "                             rotation_range=10.,)\n",
    "\n",
    "datagen.fit(X_train)"
   ]
  },
  {
   "cell_type": "code",
   "execution_count": 14,
   "metadata": {},
   "outputs": [],
   "source": [
    "model_aug = cnn_model()\n",
    "lr = 0.01\n",
    "sgd = SGD(lr=lr, decay=1e-6, momentum=0.9, nesterov=True)\n",
    "model_aug.compile(loss='categorical_crossentropy',\n",
    "          optimizer=sgd,\n",
    "          metrics=['accuracy'])\n",
    "\n",
    "\n",
    "def lr_schedule(epoch):\n",
    "    return lr*(0.1**int(epoch/10))"
   ]
  },
  {
   "cell_type": "code",
   "execution_count": 15,
   "metadata": {},
   "outputs": [
    {
     "name": "stdout",
     "output_type": "stream",
     "text": [
      "Epoch 1/30\n",
      "14913/14913 [==============================] - 230s 15ms/step - loss: 0.0660 - acc: 0.9776 - val_loss: 0.0211 - val_acc: 0.9928\n",
      "Epoch 2/30\n",
      "14913/14913 [==============================] - 214s 14ms/step - loss: 0.0154 - acc: 0.9946 - val_loss: 0.0151 - val_acc: 0.9946\n",
      "Epoch 3/30\n",
      "14913/14913 [==============================] - 277s 19ms/step - loss: 0.0087 - acc: 0.9970 - val_loss: 0.0087 - val_acc: 0.9971\n",
      "Epoch 4/30\n",
      "14913/14913 [==============================] - 315s 21ms/step - loss: 0.0068 - acc: 0.9977 - val_loss: 0.0101 - val_acc: 0.9965\n",
      "Epoch 5/30\n",
      "14913/14913 [==============================] - 311s 21ms/step - loss: 0.0048 - acc: 0.9983 - val_loss: 0.0071 - val_acc: 0.9971\n",
      "Epoch 6/30\n",
      "14913/14913 [==============================] - 324s 22ms/step - loss: 0.0046 - acc: 0.9984 - val_loss: 0.0088 - val_acc: 0.9968\n",
      "Epoch 7/30\n",
      "14913/14913 [==============================] - 326s 22ms/step - loss: 0.0039 - acc: 0.9987 - val_loss: 0.0135 - val_acc: 0.9962\n",
      "Epoch 8/30\n",
      "14913/14913 [==============================] - 306s 21ms/step - loss: 0.0033 - acc: 0.9989 - val_loss: 0.0125 - val_acc: 0.9973\n",
      "Epoch 9/30\n",
      "14913/14913 [==============================] - 352s 24ms/step - loss: 0.0028 - acc: 0.9990 - val_loss: 0.0126 - val_acc: 0.9957\n",
      "Epoch 10/30\n",
      "14913/14913 [==============================] - 385s 26ms/step - loss: 0.0025 - acc: 0.9992 - val_loss: 0.0100 - val_acc: 0.9968\n",
      "Epoch 11/30\n",
      "14913/14913 [==============================] - 372s 25ms/step - loss: 9.9852e-04 - acc: 0.9997 - val_loss: 0.0110 - val_acc: 0.9971\n",
      "Epoch 12/30\n",
      "14913/14913 [==============================] - 375s 25ms/step - loss: 6.8149e-04 - acc: 0.9998 - val_loss: 0.0113 - val_acc: 0.9971\n",
      "Epoch 13/30\n",
      "14913/14913 [==============================] - 397s 27ms/step - loss: 6.2988e-04 - acc: 0.9998 - val_loss: 0.0095 - val_acc: 0.9973\n",
      "Epoch 14/30\n",
      "14913/14913 [==============================] - 360s 24ms/step - loss: 5.6495e-04 - acc: 0.9998 - val_loss: 0.0094 - val_acc: 0.9976\n",
      "Epoch 15/30\n",
      "14913/14913 [==============================] - 379s 25ms/step - loss: 5.5343e-04 - acc: 0.9998 - val_loss: 0.0103 - val_acc: 0.9976\n",
      "Epoch 16/30\n",
      "14913/14913 [==============================] - 334s 22ms/step - loss: 4.9466e-04 - acc: 0.9998 - val_loss: 0.0109 - val_acc: 0.9971\n",
      "Epoch 17/30\n",
      "14913/14913 [==============================] - 327s 22ms/step - loss: 5.2748e-04 - acc: 0.9998 - val_loss: 0.0103 - val_acc: 0.9973\n",
      "Epoch 18/30\n",
      "14913/14913 [==============================] - 317s 21ms/step - loss: 3.8527e-04 - acc: 0.9999 - val_loss: 0.0096 - val_acc: 0.9976\n",
      "Epoch 19/30\n",
      "14913/14913 [==============================] - 304s 20ms/step - loss: 3.3089e-04 - acc: 0.9999 - val_loss: 0.0102 - val_acc: 0.9971\n",
      "Epoch 20/30\n",
      "14913/14913 [==============================] - 282s 19ms/step - loss: 3.4964e-04 - acc: 0.9999 - val_loss: 0.0109 - val_acc: 0.9973\n",
      "Epoch 21/30\n",
      "14913/14913 [==============================] - 292s 20ms/step - loss: 3.7088e-04 - acc: 0.9999 - val_loss: 0.0104 - val_acc: 0.9976\n",
      "Epoch 22/30\n",
      "14913/14913 [==============================] - 298s 20ms/step - loss: 4.2809e-04 - acc: 0.9999 - val_loss: 0.0105 - val_acc: 0.9976\n",
      "Epoch 23/30\n",
      "14913/14913 [==============================] - 296s 20ms/step - loss: 3.4324e-04 - acc: 0.9999 - val_loss: 0.0104 - val_acc: 0.9976\n",
      "Epoch 24/30\n",
      "14913/14913 [==============================] - 288s 19ms/step - loss: 3.9616e-04 - acc: 0.9999 - val_loss: 0.0102 - val_acc: 0.9976\n",
      "Epoch 25/30\n",
      "14913/14913 [==============================] - 274s 18ms/step - loss: 3.5030e-04 - acc: 0.9999 - val_loss: 0.0105 - val_acc: 0.9976\n",
      "Epoch 26/30\n",
      "14913/14913 [==============================] - 270s 18ms/step - loss: 3.4861e-04 - acc: 0.9999 - val_loss: 0.0102 - val_acc: 0.9976\n",
      "Epoch 27/30\n",
      "14913/14913 [==============================] - 270s 18ms/step - loss: 3.5267e-04 - acc: 0.9999 - val_loss: 0.0103 - val_acc: 0.9976\n",
      "Epoch 28/30\n",
      "14913/14913 [==============================] - 270s 18ms/step - loss: 3.3792e-04 - acc: 0.9999 - val_loss: 0.0104 - val_acc: 0.9976\n",
      "Epoch 29/30\n",
      "14913/14913 [==============================] - 310s 21ms/step - loss: 3.6776e-04 - acc: 0.9999 - val_loss: 0.0105 - val_acc: 0.9976\n",
      "Epoch 30/30\n",
      "14913/14913 [==============================] - 313s 21ms/step - loss: 3.5867e-04 - acc: 0.9999 - val_loss: 0.0104 - val_acc: 0.9976\n"
     ]
    }
   ],
   "source": [
    "nb_epoch = 30\n",
    "history = model_aug.fit_generator(datagen.flow(X_train, y_train, batch_size=batch_size),\n",
    "                                    steps_per_epoch=X_train.shape[0],\n",
    "                                    epochs=nb_epoch,\n",
    "                                    validation_data=(X_val, y_val),\n",
    "                                    callbacks=[LearningRateScheduler(lr_schedule),\n",
    "                                               ModelCheckpoint('model.h5',save_best_only=True)])"
   ]
  },
  {
   "cell_type": "code",
   "execution_count": 16,
   "metadata": {},
   "outputs": [
    {
     "name": "stdout",
     "output_type": "stream",
     "text": [
      "Test accuracy = 0.9951130116065975\n"
     ]
    }
   ],
   "source": [
    "y_pred = model_aug.predict_classes(X_test)\n",
    "acc = np.sum(y_pred==y_test)/np.size(y_pred)\n",
    "print(\"Test accuracy = {}\".format(acc))"
   ]
  },
  {
   "cell_type": "code",
   "execution_count": 17,
   "metadata": {},
   "outputs": [
    {
     "name": "stdout",
     "output_type": "stream",
     "text": [
      "_________________________________________________________________\n",
      "Layer (type)                 Output Shape              Param #   \n",
      "=================================================================\n",
      "conv2d_1 (Conv2D)            (None, 32, 32, 32)        896       \n",
      "_________________________________________________________________\n",
      "conv2d_2 (Conv2D)            (None, 30, 30, 32)        9248      \n",
      "_________________________________________________________________\n",
      "max_pooling2d_1 (MaxPooling2 (None, 15, 15, 32)        0         \n",
      "_________________________________________________________________\n",
      "dropout_1 (Dropout)          (None, 15, 15, 32)        0         \n",
      "_________________________________________________________________\n",
      "conv2d_3 (Conv2D)            (None, 15, 15, 64)        18496     \n",
      "_________________________________________________________________\n",
      "conv2d_4 (Conv2D)            (None, 13, 13, 64)        36928     \n",
      "_________________________________________________________________\n",
      "max_pooling2d_2 (MaxPooling2 (None, 6, 6, 64)          0         \n",
      "_________________________________________________________________\n",
      "dropout_2 (Dropout)          (None, 6, 6, 64)          0         \n",
      "_________________________________________________________________\n",
      "conv2d_5 (Conv2D)            (None, 6, 6, 128)         73856     \n",
      "_________________________________________________________________\n",
      "conv2d_6 (Conv2D)            (None, 4, 4, 128)         147584    \n",
      "_________________________________________________________________\n",
      "max_pooling2d_3 (MaxPooling2 (None, 2, 2, 128)         0         \n",
      "_________________________________________________________________\n",
      "dropout_3 (Dropout)          (None, 2, 2, 128)         0         \n",
      "_________________________________________________________________\n",
      "flatten_1 (Flatten)          (None, 512)               0         \n",
      "_________________________________________________________________\n",
      "dense_1 (Dense)              (None, 512)               262656    \n",
      "_________________________________________________________________\n",
      "dropout_4 (Dropout)          (None, 512)               0         \n",
      "_________________________________________________________________\n",
      "dense_2 (Dense)              (None, 6)                 3078      \n",
      "=================================================================\n",
      "Total params: 552,742\n",
      "Trainable params: 552,742\n",
      "Non-trainable params: 0\n",
      "_________________________________________________________________\n"
     ]
    }
   ],
   "source": [
    "model.summary()"
   ]
  },
  {
   "cell_type": "markdown",
   "metadata": {},
   "source": [
    "## Training result with plot and confusion matrix"
   ]
  },
  {
   "cell_type": "code",
   "execution_count": 25,
   "metadata": {},
   "outputs": [
    {
     "data": {
      "image/png": "[encoded data removed]",
      "text/plain": [
       "<matplotlib.figure.Figure at 0x2440ca454a8>"
      ]
     },
     "metadata": {},
     "output_type": "display_data"
    },
    {
     "data": {
      "image/png": "[encoded data removed]",
      "text/plain": [
       "<matplotlib.figure.Figure at 0x243e5e08860>"
      ]
     },
     "metadata": {},
     "output_type": "display_data"
    }
   ],
   "source": [
    "#  \"Accuracy\"\n",
    "plt.plot(history.history['acc'])\n",
    "plt.plot(history.history['val_acc'])\n",
    "plt.title('model accuracy')\n",
    "plt.ylabel('accuracy')\n",
    "plt.xlabel('epoch')\n",
    "plt.legend(['train', 'validation'], loc='upper left')\n",
    "plt.savefig('model_accuracy_traffic_light.png', format = 'png', dpi =300)\n",
    "plt.show()\n",
    "# \"Loss\"\n",
    "plt.plot(history.history['loss'])\n",
    "plt.plot(history.history['val_loss'])\n",
    "plt.title('model loss')\n",
    "plt.ylabel('loss')\n",
    "plt.xlabel('epoch')\n",
    "plt.legend(['train', 'validation'], loc='upper left')\n",
    "plt.savefig('model_loss_traffic_light.png', format = 'png' , dpi = 300)\n",
    "plt.show()"
   ]
  },
  {
   "cell_type": "code",
   "execution_count": 24,
   "metadata": {},
   "outputs": [
    {
     "data": {
      "image/png": "[encoded data removed]",
      "text/plain": [
       "<matplotlib.figure.Figure at 0x243f28114e0>"
      ]
     },
     "metadata": {},
     "output_type": "display_data"
    }
   ],
   "source": [
    "from sklearn.metrics import confusion_matrix\n",
    "import itertools\n",
    "cm = confusion_matrix(y_test, y_pred)\n",
    "\n",
    "plt.figure(figsize=(10,10))  \n",
    "plt.imshow(cm, interpolation='nearest', cmap=plt.cm.Blues)\n",
    "tick_marks = np.arange(NUM_CLASSES)\n",
    "\n",
    "plt.xticks(range(NUM_CLASSES))\n",
    "plt.yticks(range(NUM_CLASSES))\n",
    "plt.xticks(rotation=90)\n",
    "plt.xticks(fontsize = 12)\n",
    "plt.yticks(fontsize = 12)\n",
    "plt.xlabel('Predicted', fontsize = 16)\n",
    "plt.ylabel('True', fontsize= 16)\n",
    "thresh = cm.max() / 2.\n",
    "for i, j in itertools.product(range(cm.shape[0]), range(cm.shape[1])):\n",
    "    plt.text(j, i, cm[i, j],horizontalalignment=\"center\",\n",
    "             color=\"white\" if cm[i, j] > thresh else \"black\")\n",
    "plt.savefig('confusion_matrix_traffic_light.png', format='png' ,dpi = 300)\n",
    "plt.show()\n"
   ]
  },
  {
   "cell_type": "markdown",
   "metadata": {},
   "source": [
    "## Save the model and convert the Keras model into coreML for iOS"
   ]
  },
  {
   "cell_type": "code",
   "execution_count": 20,
   "metadata": {},
   "outputs": [],
   "source": [
    "model_aug.save(\"traffic_sign_classifier_model.h5\")"
   ]
  },
  {
   "cell_type": "code",
   "execution_count": 21,
   "metadata": {},
   "outputs": [],
   "source": [
    "model_aug = load_model(\"traffic_sign_classifier_model.h5\")"
   ]
  },
  {
   "cell_type": "code",
   "execution_count": 22,
   "metadata": {},
   "outputs": [
    {
     "ename": "ModuleNotFoundError",
     "evalue": "No module named 'coremltools'",
     "output_type": "error",
     "traceback": [
      "\u001b[1;31m---------------------------------------------------------------------------\u001b[0m",
      "\u001b[1;31mModuleNotFoundError\u001b[0m                       Traceback (most recent call last)",
      "\u001b[1;32m<ipython-input-22-72a8653a5d2f>\u001b[0m in \u001b[0;36m<module>\u001b[1;34m()\u001b[0m\n\u001b[1;32m----> 1\u001b[1;33m \u001b[1;32mimport\u001b[0m \u001b[0mcoremltools\u001b[0m\u001b[1;33m\u001b[0m\u001b[0m\n\u001b[0m\u001b[0;32m      2\u001b[0m coreml_model = coremltools.converters.keras.convert(model_aug, input_names='image',\n\u001b[0;32m      3\u001b[0m                                                     \u001b[0mimage_input_names\u001b[0m\u001b[1;33m=\u001b[0m\u001b[1;34m'image'\u001b[0m\u001b[1;33m,\u001b[0m\u001b[1;33m\u001b[0m\u001b[0m\n\u001b[0;32m      4\u001b[0m                                                     \u001b[0mimage_scale\u001b[0m\u001b[1;33m=\u001b[0m\u001b[1;36m1\u001b[0m\u001b[1;33m/\u001b[0m\u001b[1;36m255.0\u001b[0m\u001b[1;33m,\u001b[0m\u001b[1;33m\u001b[0m\u001b[0m\n\u001b[0;32m      5\u001b[0m                                                     class_labels=['speedLimit25', 'speedLimit30', 'speedLimit35', 'speedLimit40', 'speedLimit45', 'speedLimit50', 'speedLimit55', 'speedLimit65', 'stop', 'stopAhead', 'slow', 'pedestrianCrossing', 'school', 'schoolSpeedLimit25'])\n",
      "\u001b[1;31mModuleNotFoundError\u001b[0m: No module named 'coremltools'"
     ]
    }
   ],
   "source": [
    "import coremltools\n",
    "coreml_model = coremltools.converters.keras.convert(model_aug, input_names='image',\n",
    "                                                    image_input_names='image',\n",
    "                                                    image_scale=1/255.0,\n",
    "                                                    class_labels=['speedLimit25', 'speedLimit30', 'speedLimit35', 'speedLimit40', 'speedLimit45', 'speedLimit50', 'speedLimit55', 'speedLimit65', 'stop', 'stopAhead', 'slow', 'pedestrianCrossing', 'school', 'schoolSpeedLimit25'])\n",
    "#                                                     class_labels=[i for i in range(14)])\n",
    "coreml_model.save('traffic_sign_classifier_model.mlmodel')"
   ]
  }
 ],
 "metadata": {
  "kernelspec": {
   "display_name": "Python 3",
   "language": "python",
   "name": "python3"
  },
  "language_info": {
   "codemirror_mode": {
    "name": "ipython",
    "version": 3
   },
   "file_extension": ".py",
   "mimetype": "text/x-python",
   "name": "python",
   "nbconvert_exporter": "python",
   "pygments_lexer": "ipython3",
   "version": "3.6.5"
  }
 },
 "nbformat": 4,
 "nbformat_minor": 2
}
