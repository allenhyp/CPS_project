{
 "cells": [
  {
   "cell_type": "markdown",
   "metadata": {},
   "source": [
    "Traffic sign classifcation\n",
    "====================\n",
    "\n",
    "\\#Convolutional Neural Network  \n",
    "\\#LISA dataset  \n",
    "\\#Keras  \n",
    "\\#iOS coreML"
   ]
  },
  {
   "cell_type": "code",
   "execution_count": 6,
   "metadata": {},
   "outputs": [],
   "source": [
    "import numpy as np\n",
    "from skimage import io, color, exposure, transform\n",
    "from sklearn.cross_validation import train_test_split\n",
    "import os\n",
    "import glob\n",
    "import h5py\n",
    "\n",
    "from keras.preprocessing.image import ImageDataGenerator\n",
    "from keras.models import Sequential, model_from_json, load_model\n",
    "from keras.layers.core import Dense, Dropout, Activation, Flatten\n",
    "from keras.layers.convolutional import Conv2D\n",
    "from keras.layers.pooling import MaxPooling2D\n",
    "\n",
    "from keras.optimizers import SGD\n",
    "from keras.utils import np_utils\n",
    "from keras.callbacks import LearningRateScheduler, ModelCheckpoint\n",
    "from keras import backend as K\n",
    "K.set_image_data_format('channels_last')\n",
    "\n",
    "from matplotlib import pyplot as plt\n",
    "%matplotlib inline\n",
    "\n",
    "NUM_CLASSES = 14\n",
    "IMG_SIZE = 32"
   ]
  },
  {
   "cell_type": "markdown",
   "metadata": {},
   "source": [
    "## Preprocess image  \n",
    "1. equalize histogram\n",
    "2. central scrop\n",
    "3. rescale to 32x32"
   ]
  },
  {
   "cell_type": "code",
   "execution_count": 7,
   "metadata": {},
   "outputs": [],
   "source": [
    "def preprocess_img(img):\n",
    "    hsv = color.rgb2hsv(img)\n",
    "    hsv[:,:,2] = exposure.equalize_hist(hsv[:,:,2])\n",
    "    img = color.hsv2rgb(hsv)\n",
    "\n",
    "    min_side = min(img.shape[:-1])\n",
    "    centre = img.shape[0]//2, img.shape[1]//2\n",
    "    img = img[centre[0]-min_side//2:centre[0]+min_side//2,\n",
    "              centre[1]-min_side//2:centre[1]+min_side//2,\n",
    "              :]\n",
    "\n",
    "    img = transform.resize(img, (IMG_SIZE, IMG_SIZE))\n",
    "\n",
    "    return img\n",
    "\n",
    "\n",
    "def get_class(img_path):\n",
    "    return int(img_path.split('$')[1])"
   ]
  },
  {
   "cell_type": "markdown",
   "metadata": {},
   "source": [
    "## Collect training set\n",
    "The data was collected from LISA traffic sign data set, we would store the training data into X.h5 file in order to speed up next the process next time.  \n",
    "http://cvrr.ucsd.edu/LISA/lisa-traffic-sign-dataset.html"
   ]
  },
  {
   "cell_type": "code",
   "execution_count": 8,
   "metadata": {},
   "outputs": [
    {
     "name": "stdout",
     "output_type": "stream",
     "text": [
      "Error in reading X.h5. Processing all images...\n"
     ]
    },
    {
     "name": "stderr",
     "output_type": "stream",
     "text": [
      "/home/allenhsu/.local/lib/python3.5/site-packages/skimage/transform/_warps.py:84: UserWarning: The default mode, 'constant', will be changed to 'reflect' in skimage 0.15.\n",
      "  warn(\"The default mode, 'constant', will be changed to 'reflect' in \"\n"
     ]
    },
    {
     "name": "stdout",
     "output_type": "stream",
     "text": [
      "Processed 1000/2696\n",
      "Processed 2000/2696\n"
     ]
    }
   ],
   "source": [
    "try:\n",
    "    with  h5py.File('X.h5') as hf: \n",
    "        X, y = hf['imgs'][:], hf['labels'][:]\n",
    "    print(\"Loaded images from X.h5\")\n",
    "    \n",
    "except (IOError,OSError, KeyError):  \n",
    "    print(\"Error in reading X.h5. Processing all images...\")\n",
    "    root_dir = 'training60/'\n",
    "    imgs = []\n",
    "    labels = []\n",
    "    all_img_paths = glob.glob(os.path.join(root_dir, '*.png'))\n",
    "    np.random.shuffle(all_img_paths)\n",
    "    for img_path in all_img_paths:\n",
    "        try:\n",
    "            img = preprocess_img(io.imread(img_path))\n",
    "            label = get_class(img_path)\n",
    "            imgs.append(img)\n",
    "            labels.append(label)\n",
    "\n",
    "            if len(imgs)%1000 == 0: print(\"Processed {}/{}\".format(len(imgs), len(all_img_paths)))\n",
    "        except (IOError, OSError):\n",
    "            print('missed', img_path)\n",
    "            pass\n",
    "\n",
    "    X = np.array(imgs, dtype='float32')\n",
    "    y = np.eye(NUM_CLASSES, dtype='uint8')[labels]\n",
    "    with h5py.File('X.h5','w') as hf:\n",
    "        hf.create_dataset('imgs', data=X)\n",
    "        hf.create_dataset('labels', data=y)"
   ]
  },
  {
   "cell_type": "markdown",
   "metadata": {},
   "source": [
    "## Model architecture\n",
    "1. 6 convolutional layers with 3 max-pool and drop-out layers  \n",
    "2. 1 fully-connected layer to collect the features  \n",
    "3. Collect the result by softmax"
   ]
  },
  {
   "cell_type": "code",
   "execution_count": 9,
   "metadata": {
    "scrolled": false
   },
   "outputs": [],
   "source": [
    "def cnn_model():\n",
    "    model = Sequential()\n",
    "\n",
    "    model.add(Conv2D(32, (3, 3), padding='same',\n",
    "                     input_shape=(IMG_SIZE, IMG_SIZE, 3),\n",
    "                     activation='relu'))\n",
    "    model.add(Conv2D(32, (3, 3), activation='relu'))\n",
    "    model.add(MaxPooling2D(pool_size=(2, 2)))\n",
    "    model.add(Dropout(0.2))\n",
    "\n",
    "    model.add(Conv2D(64, (3, 3), padding='same',\n",
    "                     activation='relu'))\n",
    "    model.add(Conv2D(64, (3, 3), activation='relu'))\n",
    "    model.add(MaxPooling2D(pool_size=(2, 2)))\n",
    "    model.add(Dropout(0.2))\n",
    "\n",
    "    model.add(Conv2D(128, (3, 3), padding='same',\n",
    "                     activation='relu'))\n",
    "    model.add(Conv2D(128, (3, 3), activation='relu'))\n",
    "    model.add(MaxPooling2D(pool_size=(2, 2)))\n",
    "    model.add(Dropout(0.2))\n",
    "\n",
    "    model.add(Flatten())\n",
    "    model.add(Dense(512, activation='relu'))\n",
    "    model.add(Dropout(0.5))\n",
    "    model.add(Dense(NUM_CLASSES, activation='softmax'))\n",
    "    return model\n",
    "\n",
    "model = cnn_model()\n",
    "lr = 0.01\n",
    "sgd = SGD(lr=lr, decay=1e-6, momentum=0.9, nesterov=True)\n",
    "model.compile(loss='categorical_crossentropy',\n",
    "          optimizer=sgd,\n",
    "          metrics=['accuracy'])\n",
    "\n",
    "\n",
    "def lr_schedule(epoch):\n",
    "    return lr*(0.1**int(epoch/10))"
   ]
  },
  {
   "cell_type": "markdown",
   "metadata": {},
   "source": [
    "## Train the model"
   ]
  },
  {
   "cell_type": "code",
   "execution_count": 10,
   "metadata": {},
   "outputs": [
    {
     "name": "stdout",
     "output_type": "stream",
     "text": [
      "Train on 2156 samples, validate on 540 samples\n",
      "Epoch 1/30\n",
      "2156/2156 [==============================] - 1s 609us/step - loss: 2.0080 - acc: 0.3585 - val_loss: 1.9565 - val_acc: 0.3815\n",
      "Epoch 2/30\n",
      "2156/2156 [==============================] - 1s 391us/step - loss: 1.5727 - acc: 0.5366 - val_loss: 1.0835 - val_acc: 0.6907\n",
      "Epoch 3/30\n",
      "2156/2156 [==============================] - 1s 368us/step - loss: 0.7964 - acc: 0.7481 - val_loss: 0.3480 - val_acc: 0.8759\n",
      "Epoch 4/30\n",
      "2156/2156 [==============================] - 1s 384us/step - loss: 0.4937 - acc: 0.8349 - val_loss: 0.2882 - val_acc: 0.8833\n",
      "Epoch 5/30\n",
      "2156/2156 [==============================] - 1s 361us/step - loss: 0.3010 - acc: 0.9003 - val_loss: 0.1521 - val_acc: 0.9481\n",
      "Epoch 6/30\n",
      "2156/2156 [==============================] - 1s 360us/step - loss: 0.2448 - acc: 0.9179 - val_loss: 0.0631 - val_acc: 0.9815\n",
      "Epoch 7/30\n",
      "2156/2156 [==============================] - 1s 360us/step - loss: 0.1676 - acc: 0.9527 - val_loss: 0.0589 - val_acc: 0.9870\n",
      "Epoch 8/30\n",
      "2156/2156 [==============================] - 1s 362us/step - loss: 0.1267 - acc: 0.9596 - val_loss: 0.0414 - val_acc: 0.9907\n",
      "Epoch 9/30\n",
      "2156/2156 [==============================] - 1s 358us/step - loss: 0.1148 - acc: 0.9615 - val_loss: 0.0283 - val_acc: 0.9926\n",
      "Epoch 10/30\n",
      "2156/2156 [==============================] - 1s 361us/step - loss: 0.0844 - acc: 0.9726 - val_loss: 0.0207 - val_acc: 0.9944\n",
      "Epoch 11/30\n",
      "2156/2156 [==============================] - 1s 386us/step - loss: 0.0751 - acc: 0.9787 - val_loss: 0.0183 - val_acc: 0.9944\n",
      "Epoch 12/30\n",
      "2156/2156 [==============================] - 1s 386us/step - loss: 0.0479 - acc: 0.9833 - val_loss: 0.0132 - val_acc: 0.9963\n",
      "Epoch 13/30\n",
      "2156/2156 [==============================] - 1s 356us/step - loss: 0.0507 - acc: 0.9838 - val_loss: 0.0123 - val_acc: 0.9944\n",
      "Epoch 14/30\n",
      "2156/2156 [==============================] - 1s 358us/step - loss: 0.0375 - acc: 0.9893 - val_loss: 0.0117 - val_acc: 0.9944\n",
      "Epoch 15/30\n",
      "2156/2156 [==============================] - 1s 357us/step - loss: 0.0319 - acc: 0.9898 - val_loss: 0.0101 - val_acc: 0.9963\n",
      "Epoch 16/30\n",
      "2156/2156 [==============================] - 1s 358us/step - loss: 0.0366 - acc: 0.9903 - val_loss: 0.0120 - val_acc: 0.9963\n",
      "Epoch 17/30\n",
      "2156/2156 [==============================] - 1s 373us/step - loss: 0.0298 - acc: 0.9907 - val_loss: 0.0113 - val_acc: 0.9963\n",
      "Epoch 18/30\n",
      "2156/2156 [==============================] - 1s 406us/step - loss: 0.0345 - acc: 0.9926 - val_loss: 0.0116 - val_acc: 0.9963\n",
      "Epoch 19/30\n",
      "2156/2156 [==============================] - 1s 375us/step - loss: 0.0379 - acc: 0.9875 - val_loss: 0.0108 - val_acc: 0.9963\n",
      "Epoch 20/30\n",
      "2156/2156 [==============================] - 1s 363us/step - loss: 0.0216 - acc: 0.9944 - val_loss: 0.0122 - val_acc: 0.9963\n",
      "Epoch 21/30\n",
      "2156/2156 [==============================] - 1s 361us/step - loss: 0.0278 - acc: 0.9926 - val_loss: 0.0129 - val_acc: 0.9963\n",
      "Epoch 22/30\n",
      "2156/2156 [==============================] - 1s 362us/step - loss: 0.0298 - acc: 0.9903 - val_loss: 0.0122 - val_acc: 0.9963\n",
      "Epoch 23/30\n",
      "2156/2156 [==============================] - 1s 363us/step - loss: 0.0318 - acc: 0.9903 - val_loss: 0.0121 - val_acc: 0.9963\n",
      "Epoch 24/30\n",
      "2156/2156 [==============================] - 1s 367us/step - loss: 0.0292 - acc: 0.9917 - val_loss: 0.0118 - val_acc: 0.9963\n",
      "Epoch 25/30\n",
      "2156/2156 [==============================] - 1s 378us/step - loss: 0.0380 - acc: 0.9893 - val_loss: 0.0114 - val_acc: 0.9963\n",
      "Epoch 26/30\n",
      "2156/2156 [==============================] - 1s 404us/step - loss: 0.0283 - acc: 0.9921 - val_loss: 0.0111 - val_acc: 0.9963\n",
      "Epoch 27/30\n",
      "2156/2156 [==============================] - 1s 387us/step - loss: 0.0280 - acc: 0.9917 - val_loss: 0.0109 - val_acc: 0.9963\n",
      "Epoch 28/30\n",
      "2156/2156 [==============================] - 1s 359us/step - loss: 0.0220 - acc: 0.9944 - val_loss: 0.0109 - val_acc: 0.9963\n",
      "Epoch 29/30\n",
      "2156/2156 [==============================] - 1s 359us/step - loss: 0.0314 - acc: 0.9884 - val_loss: 0.0112 - val_acc: 0.9963\n",
      "Epoch 30/30\n",
      "2156/2156 [==============================] - 1s 367us/step - loss: 0.0267 - acc: 0.9926 - val_loss: 0.0114 - val_acc: 0.9963\n"
     ]
    }
   ],
   "source": [
    "batch_size = 32\n",
    "nb_epoch = 30\n",
    "\n",
    "history = model.fit(X, y,\n",
    "                  batch_size=batch_size,\n",
    "                  epochs=nb_epoch,\n",
    "                  validation_split=0.2,\n",
    "                  shuffle=True,\n",
    "                  callbacks=[LearningRateScheduler(lr_schedule),\n",
    "                            ModelCheckpoint('model.h5',save_best_only=True)])"
   ]
  },
  {
   "cell_type": "code",
   "execution_count": 11,
   "metadata": {},
   "outputs": [
    {
     "data": {
      "image/png": "[encoded data removed]",
      "text/plain": [
       "<Figure size 432x288 with 1 Axes>"
      ]
     },
     "metadata": {},
     "output_type": "display_data"
    },
    {
     "data": {
      "image/png": "[encoded data removed]",
      "text/plain": [
       "<Figure size 432x288 with 1 Axes>"
      ]
     },
     "metadata": {},
     "output_type": "display_data"
    }
   ],
   "source": [
    "#  \"Accuracy\"\n",
    "plt.plot(history.history['acc'])\n",
    "# plt.plot(history.history['val_acc'])\n",
    "plt.title('model accuracy')\n",
    "plt.ylabel('accuracy')\n",
    "plt.xlabel('epoch')\n",
    "plt.legend(['train', 'validation'], loc='upper left')\n",
    "plt.show()\n",
    "# \"Loss\"\n",
    "plt.plot(history.history['loss'])\n",
    "# plt.plot(history.history['val_loss'])\n",
    "plt.title('model loss')\n",
    "plt.ylabel('loss')\n",
    "plt.xlabel('epoch')\n",
    "plt.legend(['train', 'validation'], loc='upper left')\n",
    "plt.show()"
   ]
  },
  {
   "cell_type": "code",
   "execution_count": 12,
   "metadata": {},
   "outputs": [
    {
     "name": "stderr",
     "output_type": "stream",
     "text": [
      "/home/allenhsu/.local/lib/python3.5/site-packages/skimage/transform/_warps.py:84: UserWarning: The default mode, 'constant', will be changed to 'reflect' in skimage 0.15.\n",
      "  warn(\"The default mode, 'constant', will be changed to 'reflect' in \"\n"
     ]
    }
   ],
   "source": [
    "root_dir = 'testing40/'\n",
    "X_test = []\n",
    "y_test = []\n",
    "all_img_paths = glob.glob(os.path.join(root_dir, '*.png'))\n",
    "np.random.shuffle(all_img_paths)\n",
    "for img_path in all_img_paths:\n",
    "    try:\n",
    "        img = preprocess_img(io.imread(img_path))\n",
    "        label = get_class(img_path)\n",
    "        X_test.append(img)\n",
    "        y_test.append(label)\n",
    "\n",
    "        if len(imgs)%1000 == 0: print(\"Processed {}/{}\".format(len(imgs), len(all_img_paths)))\n",
    "    except (IOError, OSError):\n",
    "        print('missed', img_path)\n",
    "        pass\n",
    "\n",
    "X_test = np.array(X_test)\n",
    "y_test = np.array(y_test)"
   ]
  },
  {
   "cell_type": "code",
   "execution_count": 13,
   "metadata": {},
   "outputs": [
    {
     "name": "stdout",
     "output_type": "stream",
     "text": [
      "Test accuracy = 0.9884868421052632\n"
     ]
    }
   ],
   "source": [
    "y_pred = model.predict_classes(X_test)\n",
    "acc = np.sum(y_pred==y_test)/np.size(y_pred)\n",
    "print(\"Test accuracy = {}\".format(acc))"
   ]
  },
  {
   "cell_type": "markdown",
   "metadata": {},
   "source": [
    "## Train with augmented dataset\n",
    "\n",
    "Using ImageDataGenerator to augment the training data  \n",
    "*  Sample-wise standardization  \n",
    "* Feature-wise standardization  \n",
    "* ZCA whitening  \n",
    "* Random rotation, shifts, shear and flips  \n",
    "* Dimension reordering  \n"
   ]
  },
  {
   "cell_type": "code",
   "execution_count": 14,
   "metadata": {},
   "outputs": [],
   "source": [
    "from sklearn.cross_validation import train_test_split\n",
    "\n",
    "X_train, X_val, y_train, y_val = train_test_split(X, y, test_size=0.2, random_state=42)\n",
    "\n",
    "datagen = ImageDataGenerator(featurewise_center=False, \n",
    "                             featurewise_std_normalization=False, \n",
    "                             width_shift_range=0.1,\n",
    "                             height_shift_range=0.1,\n",
    "                             zoom_range=0.2,\n",
    "                             shear_range=0.1,\n",
    "                             rotation_range=10.,)\n",
    "\n",
    "datagen.fit(X_train)"
   ]
  },
  {
   "cell_type": "code",
   "execution_count": 15,
   "metadata": {},
   "outputs": [],
   "source": [
    "model_aug = cnn_model()\n",
    "lr = 0.01\n",
    "sgd = SGD(lr=lr, decay=1e-6, momentum=0.9, nesterov=True)\n",
    "model_aug.compile(loss='categorical_crossentropy',\n",
    "          optimizer=sgd,\n",
    "          metrics=['accuracy'])\n",
    "\n",
    "\n",
    "def lr_schedule(epoch):\n",
    "    return lr*(0.1**int(epoch/10))"
   ]
  },
  {
   "cell_type": "code",
   "execution_count": 16,
   "metadata": {},
   "outputs": [
    {
     "name": "stdout",
     "output_type": "stream",
     "text": [
      "Epoch 1/30\n",
      "2156/2156 [==============================] - 30s 14ms/step - loss: 0.4680 - acc: 0.8478 - val_loss: 0.0707 - val_acc: 0.9759\n",
      "Epoch 2/30\n",
      "2156/2156 [==============================] - 30s 14ms/step - loss: 0.0648 - acc: 0.9790 - val_loss: 0.0490 - val_acc: 0.9833\n",
      "Epoch 3/30\n",
      "2156/2156 [==============================] - 30s 14ms/step - loss: 0.0424 - acc: 0.9856 - val_loss: 0.0275 - val_acc: 0.9870\n",
      "Epoch 4/30\n",
      "2156/2156 [==============================] - 30s 14ms/step - loss: 0.0318 - acc: 0.9896 - val_loss: 0.0371 - val_acc: 0.9870\n",
      "Epoch 5/30\n",
      "2156/2156 [==============================] - 30s 14ms/step - loss: 0.0257 - acc: 0.9917 - val_loss: 0.0383 - val_acc: 0.9852\n",
      "Epoch 6/30\n",
      "2156/2156 [==============================] - 30s 14ms/step - loss: 0.0232 - acc: 0.9925 - val_loss: 0.0263 - val_acc: 0.9870\n",
      "Epoch 7/30\n",
      "2156/2156 [==============================] - 30s 14ms/step - loss: 0.0163 - acc: 0.9949 - val_loss: 0.0298 - val_acc: 0.9926\n",
      "Epoch 8/30\n",
      "2156/2156 [==============================] - 31s 14ms/step - loss: 0.0157 - acc: 0.9951 - val_loss: 0.0204 - val_acc: 0.9944\n",
      "Epoch 9/30\n",
      "2156/2156 [==============================] - 30s 14ms/step - loss: 0.0144 - acc: 0.9953 - val_loss: 0.0310 - val_acc: 0.9889\n",
      "Epoch 10/30\n",
      "2156/2156 [==============================] - 31s 14ms/step - loss: 0.0131 - acc: 0.9959 - val_loss: 0.0216 - val_acc: 0.9963\n",
      "Epoch 11/30\n",
      "2156/2156 [==============================] - 31s 14ms/step - loss: 0.0072 - acc: 0.9977 - val_loss: 0.0240 - val_acc: 0.9963\n",
      "Epoch 12/30\n",
      "2156/2156 [==============================] - 31s 14ms/step - loss: 0.0053 - acc: 0.9984 - val_loss: 0.0236 - val_acc: 0.9963\n",
      "Epoch 13/30\n",
      "2156/2156 [==============================] - 31s 14ms/step - loss: 0.0054 - acc: 0.9984 - val_loss: 0.0227 - val_acc: 0.9963\n",
      "Epoch 14/30\n",
      "2156/2156 [==============================] - 31s 14ms/step - loss: 0.0054 - acc: 0.9985 - val_loss: 0.0226 - val_acc: 0.9963\n",
      "Epoch 15/30\n",
      "2156/2156 [==============================] - 31s 14ms/step - loss: 0.0045 - acc: 0.9984 - val_loss: 0.0209 - val_acc: 0.9963\n",
      "Epoch 16/30\n",
      "2156/2156 [==============================] - 31s 14ms/step - loss: 0.0039 - acc: 0.9988 - val_loss: 0.0242 - val_acc: 0.9963\n",
      "Epoch 17/30\n",
      "2156/2156 [==============================] - 31s 14ms/step - loss: 0.0039 - acc: 0.9988 - val_loss: 0.0227 - val_acc: 0.9963\n",
      "Epoch 18/30\n",
      "2156/2156 [==============================] - 31s 14ms/step - loss: 0.0040 - acc: 0.9989 - val_loss: 0.0234 - val_acc: 0.9963\n",
      "Epoch 19/30\n",
      "2156/2156 [==============================] - 31s 14ms/step - loss: 0.0043 - acc: 0.9986 - val_loss: 0.0247 - val_acc: 0.9963\n",
      "Epoch 20/30\n",
      "2156/2156 [==============================] - 31s 14ms/step - loss: 0.0038 - acc: 0.9989 - val_loss: 0.0257 - val_acc: 0.9963\n",
      "Epoch 21/30\n",
      "2156/2156 [==============================] - 30s 14ms/step - loss: 0.0032 - acc: 0.9991 - val_loss: 0.0247 - val_acc: 0.9963\n",
      "Epoch 22/30\n",
      "2156/2156 [==============================] - 31s 14ms/step - loss: 0.0038 - acc: 0.9988 - val_loss: 0.0246 - val_acc: 0.9963\n",
      "Epoch 23/30\n",
      "2156/2156 [==============================] - 31s 14ms/step - loss: 0.0037 - acc: 0.9987 - val_loss: 0.0243 - val_acc: 0.9963\n",
      "Epoch 24/30\n",
      "2156/2156 [==============================] - 31s 14ms/step - loss: 0.0036 - acc: 0.9988 - val_loss: 0.0238 - val_acc: 0.9963\n",
      "Epoch 25/30\n",
      "2156/2156 [==============================] - 31s 14ms/step - loss: 0.0029 - acc: 0.9991 - val_loss: 0.0242 - val_acc: 0.9963\n",
      "Epoch 26/30\n",
      "2156/2156 [==============================] - 31s 14ms/step - loss: 0.0035 - acc: 0.9989 - val_loss: 0.0238 - val_acc: 0.9963\n",
      "Epoch 27/30\n",
      "2156/2156 [==============================] - 30s 14ms/step - loss: 0.0032 - acc: 0.9990 - val_loss: 0.0239 - val_acc: 0.9963\n",
      "Epoch 28/30\n",
      "2156/2156 [==============================] - 30s 14ms/step - loss: 0.0030 - acc: 0.9990 - val_loss: 0.0241 - val_acc: 0.9963\n",
      "Epoch 29/30\n",
      "2156/2156 [==============================] - 31s 14ms/step - loss: 0.0032 - acc: 0.9990 - val_loss: 0.0238 - val_acc: 0.9963\n",
      "Epoch 30/30\n",
      "2156/2156 [==============================] - 31s 14ms/step - loss: 0.0035 - acc: 0.9989 - val_loss: 0.0240 - val_acc: 0.9963\n"
     ]
    }
   ],
   "source": [
    "nb_epoch = 30\n",
    "history = model_aug.fit_generator(datagen.flow(X_train, y_train, batch_size=batch_size),\n",
    "                                    steps_per_epoch=X_train.shape[0],\n",
    "                                    epochs=nb_epoch,\n",
    "                                    validation_data=(X_val, y_val),\n",
    "                                    callbacks=[LearningRateScheduler(lr_schedule),\n",
    "                                               ModelCheckpoint('model.h5',save_best_only=True)])"
   ]
  },
  {
   "cell_type": "code",
   "execution_count": 17,
   "metadata": {},
   "outputs": [
    {
     "name": "stdout",
     "output_type": "stream",
     "text": [
      "Test accuracy = 0.9912280701754386\n"
     ]
    }
   ],
   "source": [
    "y_pred = model_aug.predict_classes(X_test)\n",
    "acc = np.sum(y_pred==y_test)/np.size(y_pred)\n",
    "print(\"Test accuracy = {}\".format(acc))"
   ]
  },
  {
   "cell_type": "code",
   "execution_count": 18,
   "metadata": {},
   "outputs": [
    {
     "name": "stdout",
     "output_type": "stream",
     "text": [
      "_________________________________________________________________\n",
      "Layer (type)                 Output Shape              Param #   \n",
      "=================================================================\n",
      "conv2d_7 (Conv2D)            (None, 32, 32, 32)        896       \n",
      "_________________________________________________________________\n",
      "conv2d_8 (Conv2D)            (None, 30, 30, 32)        9248      \n",
      "_________________________________________________________________\n",
      "max_pooling2d_4 (MaxPooling2 (None, 15, 15, 32)        0         \n",
      "_________________________________________________________________\n",
      "dropout_5 (Dropout)          (None, 15, 15, 32)        0         \n",
      "_________________________________________________________________\n",
      "conv2d_9 (Conv2D)            (None, 15, 15, 64)        18496     \n",
      "_________________________________________________________________\n",
      "conv2d_10 (Conv2D)           (None, 13, 13, 64)        36928     \n",
      "_________________________________________________________________\n",
      "max_pooling2d_5 (MaxPooling2 (None, 6, 6, 64)          0         \n",
      "_________________________________________________________________\n",
      "dropout_6 (Dropout)          (None, 6, 6, 64)          0         \n",
      "_________________________________________________________________\n",
      "conv2d_11 (Conv2D)           (None, 6, 6, 128)         73856     \n",
      "_________________________________________________________________\n",
      "conv2d_12 (Conv2D)           (None, 4, 4, 128)         147584    \n",
      "_________________________________________________________________\n",
      "max_pooling2d_6 (MaxPooling2 (None, 2, 2, 128)         0         \n",
      "_________________________________________________________________\n",
      "dropout_7 (Dropout)          (None, 2, 2, 128)         0         \n",
      "_________________________________________________________________\n",
      "flatten_2 (Flatten)          (None, 512)               0         \n",
      "_________________________________________________________________\n",
      "dense_3 (Dense)              (None, 512)               262656    \n",
      "_________________________________________________________________\n",
      "dropout_8 (Dropout)          (None, 512)               0         \n",
      "_________________________________________________________________\n",
      "dense_4 (Dense)              (None, 14)                7182      \n",
      "=================================================================\n",
      "Total params: 556,846\n",
      "Trainable params: 556,846\n",
      "Non-trainable params: 0\n",
      "_________________________________________________________________\n"
     ]
    }
   ],
   "source": [
    "model.summary()"
   ]
  },
  {
   "cell_type": "markdown",
   "metadata": {},
   "source": [
    "## Training result with plot and confusion matrix"
   ]
  },
  {
   "cell_type": "code",
   "execution_count": 19,
   "metadata": {},
   "outputs": [
    {
     "data": {
      "image/png": "[encoded data removed]",
      "text/plain": [
       "<Figure size 432x288 with 1 Axes>"
      ]
     },
     "metadata": {},
     "output_type": "display_data"
    },
    {
     "data": {
      "image/png": "[encoded data removed]",
      "text/plain": [
       "<Figure size 432x288 with 1 Axes>"
      ]
     },
     "metadata": {},
     "output_type": "display_data"
    }
   ],
   "source": [
    "#  \"Accuracy\"\n",
    "plt.plot(history.history['acc'])\n",
    "plt.plot(history.history['val_acc'])\n",
    "plt.title('model accuracy')\n",
    "plt.ylabel('accuracy')\n",
    "plt.xlabel('epoch')\n",
    "plt.legend(['train', 'validation'], loc='upper left')\n",
    "plt.show()\n",
    "# \"Loss\"\n",
    "plt.plot(history.history['loss'])\n",
    "plt.plot(history.history['val_loss'])\n",
    "plt.title('model loss')\n",
    "plt.ylabel('loss')\n",
    "plt.xlabel('epoch')\n",
    "plt.legend(['train', 'validation'], loc='upper left')\n",
    "plt.show()"
   ]
  },
  {
   "cell_type": "code",
   "execution_count": 22,
   "metadata": {},
   "outputs": [
    {
     "data": {
      "image/png": "[encoded data removed]",
      "text/plain": [
       "<Figure size 720x720 with 1 Axes>"
      ]
     },
     "metadata": {},
     "output_type": "display_data"
    }
   ],
   "source": [
    "from sklearn.metrics import confusion_matrix\n",
    "import itertools\n",
    "cm = confusion_matrix(y_test, y_pred)\n",
    "\n",
    "plt.figure(figsize=(10,10))  \n",
    "plt.imshow(cm, interpolation='nearest', cmap=plt.cm.Blues)\n",
    "tick_marks = np.arange(NUM_CLASSES)\n",
    "\n",
    "plt.xticks(range(NUM_CLASSES))\n",
    "plt.yticks(range(NUM_CLASSES))\n",
    "plt.xticks(rotation=90)\n",
    "plt.xticks(fontsize = 12)\n",
    "plt.yticks(fontsize = 12)\n",
    "plt.xlabel('Predicted', fontsize = 16)\n",
    "plt.ylabel('True', fontsize= 16)\n",
    "thresh = cm.max() / 2.\n",
    "for i, j in itertools.product(range(cm.shape[0]), range(cm.shape[1])):\n",
    "    plt.text(j, i, cm[i, j],horizontalalignment=\"center\",\n",
    "             color=\"white\" if cm[i, j] > thresh else \"black\")\n",
    "plt.show()\n"
   ]
  },
  {
   "cell_type": "markdown",
   "metadata": {},
   "source": [
    "## Save the model and convert the Keras model into coreML for iOS"
   ]
  },
  {
   "cell_type": "code",
   "execution_count": 24,
   "metadata": {},
   "outputs": [],
   "source": [
    "model_aug.save(\"traffic_sign_classifier_model.h5\")"
   ]
  },
  {
   "cell_type": "code",
   "execution_count": 5,
   "metadata": {},
   "outputs": [],
   "source": [
    "model_aug = load_model(\"traffic_sign_classifier_model.h5\")"
   ]
  },
  {
   "cell_type": "code",
   "execution_count": 6,
   "metadata": {},
   "outputs": [
    {
     "name": "stdout",
     "output_type": "stream",
     "text": [
      "0 : conv2d_21_input, <keras.engine.topology.InputLayer object at 0x7f969e0edb38>\n",
      "1 : conv2d_21, <keras.layers.convolutional.Conv2D object at 0x7f969e0ed748>\n",
      "2 : conv2d_21__activation__, <keras.layers.core.Activation object at 0x7f96ae298208>\n",
      "3 : conv2d_22, <keras.layers.convolutional.Conv2D object at 0x7f969e0edda0>\n",
      "4 : conv2d_22__activation__, <keras.layers.core.Activation object at 0x7f96ae298470>\n",
      "5 : max_pooling2d_11, <keras.layers.pooling.MaxPooling2D object at 0x7f969e0edc88>\n",
      "6 : conv2d_23, <keras.layers.convolutional.Conv2D object at 0x7f969e09f400>\n",
      "7 : conv2d_23__activation__, <keras.layers.core.Activation object at 0x7f96ae2984e0>\n",
      "8 : conv2d_24, <keras.layers.convolutional.Conv2D object at 0x7f969e08e4a8>\n",
      "9 : conv2d_24__activation__, <keras.layers.core.Activation object at 0x7f96ae2983c8>\n",
      "10 : max_pooling2d_12, <keras.layers.pooling.MaxPooling2D object at 0x7f969e0bcb00>\n",
      "11 : conv2d_25, <keras.layers.convolutional.Conv2D object at 0x7f969e05cf98>\n",
      "12 : conv2d_25__activation__, <keras.layers.core.Activation object at 0x7f96ae298668>\n",
      "13 : conv2d_26, <keras.layers.convolutional.Conv2D object at 0x7f969e04f630>\n",
      "14 : conv2d_26__activation__, <keras.layers.core.Activation object at 0x7f96ae298550>\n",
      "15 : max_pooling2d_13, <keras.layers.pooling.MaxPooling2D object at 0x7f969e016fd0>\n",
      "16 : flatten_4, <keras.layers.core.Flatten object at 0x7f969dbd5c88>\n",
      "17 : dense_7, <keras.layers.core.Dense object at 0x7f969dbe8470>\n",
      "18 : dense_7__activation__, <keras.layers.core.Activation object at 0x7f96ae298710>\n",
      "19 : dense_8, <keras.layers.core.Dense object at 0x7f969dbaba90>\n",
      "20 : dense_8__activation__, <keras.layers.core.Activation object at 0x7f96ae298588>\n"
     ]
    }
   ],
   "source": [
    "import coremltools\n",
    "coreml_model = coremltools.converters.keras.convert(model_aug, input_names='image',\n",
    "                                                    image_input_names='image',\n",
    "                                                    image_scale=1/255.0,\n",
    "                                                    class_labels=['speedLimit25', 'speedLimit30', 'speedLimit35', 'speedLimit40', 'speedLimit45', 'speedLimit50', 'speedLimit55', 'speedLimit65', 'stop', 'stopAhead', 'slow', 'pedestrianCrossing', 'school', 'schoolSpeedLimit25'])\n",
    "#                                                     class_labels=[i for i in range(14)])\n",
    "coreml_model.save('traffic_sign_classifier_model.mlmodel')"
   ]
  }
 ],
 "metadata": {
  "kernelspec": {
   "display_name": "Python 3",
   "language": "python",
   "name": "python3"
  },
  "language_info": {
   "codemirror_mode": {
    "name": "ipython",
    "version": 3
   },
   "file_extension": ".py",
   "mimetype": "text/x-python",
   "name": "python",
   "nbconvert_exporter": "python",
   "pygments_lexer": "ipython3",
   "version": "3.5.2"
  }
 },
 "nbformat": 4,
 "nbformat_minor": 2
}
